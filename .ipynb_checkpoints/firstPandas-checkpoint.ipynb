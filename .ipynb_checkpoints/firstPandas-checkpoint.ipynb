{
 "cells": [
  {
   "cell_type": "code",
   "execution_count": 3,
   "id": "b57595c0",
   "metadata": {},
   "outputs": [],
   "source": [
    "# 데이터분석 라이브러리인 'pandas'를 가져온 후 'pd'로 축약\n",
    "import pandas as pd\n",
    "# 배열 연산 라이브러리인 'numpy'를 가져온 후 'np'로 축약\n",
    "import numpy as np\n",
    "# 그래프를 그리는 라이브러리인 matplotlib 중 일부를 가져오기\n",
    "import matplotlib.pyplot as plt"
   ]
  },
  {
   "cell_type": "code",
   "execution_count": null,
   "id": "fd78a92a",
   "metadata": {},
   "outputs": [],
   "source": [
    "# pandas에서 Series를 실행해보기\n",
    "s = pd.Series([1, 3, 5, np.nan, 6, 8])"
   ]
  },
  {
   "cell_type": "code",
   "execution_count": null,
   "id": "d190302d",
   "metadata": {},
   "outputs": [],
   "source": [
    "s"
   ]
  },
  {
   "cell_type": "code",
   "execution_count": 8,
   "id": "eb568185",
   "metadata": {},
   "outputs": [],
   "source": [
    "# pandas에서 DataFrame을 사용하기\n",
    "dates = pd.date_range('20300101', periods=6)"
   ]
  },
  {
   "cell_type": "code",
   "execution_count": 9,
   "id": "829c638f",
   "metadata": {},
   "outputs": [
    {
     "data": {
      "text/plain": [
       "DatetimeIndex(['2030-01-01', '2030-01-02', '2030-01-03', '2030-01-04',\n",
       "               '2030-01-05', '2030-01-06'],\n",
       "              dtype='datetime64[ns]', freq='D')"
      ]
     },
     "execution_count": 9,
     "metadata": {},
     "output_type": "execute_result"
    }
   ],
   "source": [
    "dates"
   ]
  },
  {
   "cell_type": "code",
   "execution_count": 10,
   "id": "8376ab2e",
   "metadata": {},
   "outputs": [],
   "source": [
    "df = pd.DataFrame(np.random.randn(6,4), index=dates, columns=list('ABCD'))\n",
    "#"
   ]
  },
  {
   "cell_type": "code",
   "execution_count": 11,
   "id": "4579e362",
   "metadata": {},
   "outputs": [
    {
     "data": {
      "text/html": [
       "<div>\n",
       "<style scoped>\n",
       "    .dataframe tbody tr th:only-of-type {\n",
       "        vertical-align: middle;\n",
       "    }\n",
       "\n",
       "    .dataframe tbody tr th {\n",
       "        vertical-align: top;\n",
       "    }\n",
       "\n",
       "    .dataframe thead th {\n",
       "        text-align: right;\n",
       "    }\n",
       "</style>\n",
       "<table border=\"1\" class=\"dataframe\">\n",
       "  <thead>\n",
       "    <tr style=\"text-align: right;\">\n",
       "      <th></th>\n",
       "      <th>A</th>\n",
       "      <th>B</th>\n",
       "      <th>C</th>\n",
       "      <th>D</th>\n",
       "    </tr>\n",
       "  </thead>\n",
       "  <tbody>\n",
       "    <tr>\n",
       "      <th>2030-01-01</th>\n",
       "      <td>0.768699</td>\n",
       "      <td>-1.098979</td>\n",
       "      <td>-0.343557</td>\n",
       "      <td>-0.864977</td>\n",
       "    </tr>\n",
       "    <tr>\n",
       "      <th>2030-01-02</th>\n",
       "      <td>-2.823111</td>\n",
       "      <td>-1.607627</td>\n",
       "      <td>0.429596</td>\n",
       "      <td>1.274747</td>\n",
       "    </tr>\n",
       "    <tr>\n",
       "      <th>2030-01-03</th>\n",
       "      <td>0.714721</td>\n",
       "      <td>-0.059368</td>\n",
       "      <td>0.119246</td>\n",
       "      <td>-0.191528</td>\n",
       "    </tr>\n",
       "    <tr>\n",
       "      <th>2030-01-04</th>\n",
       "      <td>-0.673186</td>\n",
       "      <td>-1.766074</td>\n",
       "      <td>0.286011</td>\n",
       "      <td>-1.464146</td>\n",
       "    </tr>\n",
       "    <tr>\n",
       "      <th>2030-01-05</th>\n",
       "      <td>-1.008263</td>\n",
       "      <td>-0.440218</td>\n",
       "      <td>0.212856</td>\n",
       "      <td>-0.583405</td>\n",
       "    </tr>\n",
       "    <tr>\n",
       "      <th>2030-01-06</th>\n",
       "      <td>-1.064194</td>\n",
       "      <td>-0.171941</td>\n",
       "      <td>0.427911</td>\n",
       "      <td>0.997094</td>\n",
       "    </tr>\n",
       "  </tbody>\n",
       "</table>\n",
       "</div>"
      ],
      "text/plain": [
       "                   A         B         C         D\n",
       "2030-01-01  0.768699 -1.098979 -0.343557 -0.864977\n",
       "2030-01-02 -2.823111 -1.607627  0.429596  1.274747\n",
       "2030-01-03  0.714721 -0.059368  0.119246 -0.191528\n",
       "2030-01-04 -0.673186 -1.766074  0.286011 -1.464146\n",
       "2030-01-05 -1.008263 -0.440218  0.212856 -0.583405\n",
       "2030-01-06 -1.064194 -0.171941  0.427911  0.997094"
      ]
     },
     "execution_count": 11,
     "metadata": {},
     "output_type": "execute_result"
    }
   ],
   "source": [
    "df"
   ]
  },
  {
   "cell_type": "code",
   "execution_count": null,
   "id": "d2166e6b",
   "metadata": {},
   "outputs": [],
   "source": [
    "df2 = pd.DataFrame({'A': 1.,\n",
    "                    'B': pd.Timestamp('20300102'),\n",
    "                    'C': pd.Series(1, index=list(range(4)), dtype='float32'),\n",
    "                    'D': np.array([3]*4, dtype='int32'),\n",
    "                    'E': pd.Categorical(['test', 'train', 'test', 'train']),\n",
    "                    'F': 'foo'})"
   ]
  },
  {
   "cell_type": "code",
   "execution_count": null,
   "id": "5fe9e0fb",
   "metadata": {},
   "outputs": [],
   "source": [
    "df2"
   ]
  },
  {
   "cell_type": "code",
   "execution_count": null,
   "id": "f2a44ac8",
   "metadata": {},
   "outputs": [],
   "source": [
    "df2.dtypes"
   ]
  },
  {
   "cell_type": "code",
   "execution_count": null,
   "id": "5e2c43f5",
   "metadata": {
    "scrolled": true
   },
   "outputs": [],
   "source": [
    "df2.<TAB>"
   ]
  },
  {
   "cell_type": "code",
   "execution_count": null,
   "id": "420d3c47",
   "metadata": {},
   "outputs": [],
   "source": [
    "dir(df2)"
   ]
  },
  {
   "cell_type": "code",
   "execution_count": null,
   "id": "f7a2191e",
   "metadata": {},
   "outputs": [],
   "source": [
    "# 첫 5개 행의 데이터를 보여줍니다.\n",
    "df.head()"
   ]
  },
  {
   "cell_type": "code",
   "execution_count": null,
   "id": "071835b2",
   "metadata": {},
   "outputs": [],
   "source": [
    "# 마지막 3개 행의 데이터를 보여줍니다.\n",
    "df.tail(3)"
   ]
  },
  {
   "cell_type": "code",
   "execution_count": null,
   "id": "c5b56268",
   "metadata": {},
   "outputs": [],
   "source": [
    "# DataFrame의 행을 보기\n",
    "df.index"
   ]
  },
  {
   "cell_type": "code",
   "execution_count": null,
   "id": "0035386e",
   "metadata": {},
   "outputs": [],
   "source": [
    "# DataFrame의 열을 보기\n",
    "df.columns"
   ]
  },
  {
   "cell_type": "code",
   "execution_count": null,
   "id": "6fea506b",
   "metadata": {},
   "outputs": [],
   "source": [
    "# DataFrame에 속한 데이터 보기\n",
    "df.values"
   ]
  },
  {
   "cell_type": "code",
   "execution_count": null,
   "id": "b03242c5",
   "metadata": {},
   "outputs": [],
   "source": [
    "# DataFrame의 간단한 통계 정보\n",
    "df.describe()"
   ]
  },
  {
   "cell_type": "code",
   "execution_count": null,
   "id": "c9923912",
   "metadata": {},
   "outputs": [],
   "source": [
    "# 열과 행을 바꾼 형태의 DataFrame\n",
    "df.T"
   ]
  },
  {
   "cell_type": "code",
   "execution_count": null,
   "id": "0b6fe059",
   "metadata": {},
   "outputs": [],
   "source": [
    "# 행과 열의 이름을 정렬해보자\n",
    "# axis=0은 행, axis=1은 열 기준\n",
    "# ascending=True는 오름차순, False는 내림차순\n",
    "df.sort_index(axis=1, ascending=False)"
   ]
  },
  {
   "cell_type": "code",
   "execution_count": null,
   "id": "81516da9",
   "metadata": {},
   "outputs": [],
   "source": [
    "# DataFrame의 한 열을 집어 오름차순으로 정렬하기\n",
    "df.sort_values(by='B')"
   ]
  },
  {
   "cell_type": "code",
   "execution_count": null,
   "id": "7e7f7d27",
   "metadata": {},
   "outputs": [],
   "source": [
    "# DataFrame의 한 열을 집어 내림차순으로 정렬하기\n",
    "df.sort_values(by='B', ascending=False)"
   ]
  },
  {
   "cell_type": "code",
   "execution_count": null,
   "id": "f61e44c0",
   "metadata": {},
   "outputs": [],
   "source": [
    "df.sort_values(ascending=False, by='B')"
   ]
  },
  {
   "cell_type": "code",
   "execution_count": 12,
   "id": "25d950eb",
   "metadata": {},
   "outputs": [
    {
     "data": {
      "text/plain": [
       "2030-01-01    0.768699\n",
       "2030-01-02   -2.823111\n",
       "2030-01-03    0.714721\n",
       "2030-01-04   -0.673186\n",
       "2030-01-05   -1.008263\n",
       "2030-01-06   -1.064194\n",
       "Freq: D, Name: A, dtype: float64"
      ]
     },
     "execution_count": 12,
     "metadata": {},
     "output_type": "execute_result"
    }
   ],
   "source": [
    "df['A']"
   ]
  },
  {
   "cell_type": "code",
   "execution_count": 13,
   "id": "99e571e2",
   "metadata": {},
   "outputs": [
    {
     "ename": "TypeError",
     "evalue": "'DataFrame' object is not callable",
     "output_type": "error",
     "traceback": [
      "\u001b[0;31m---------------------------------------------------------------------------\u001b[0m",
      "\u001b[0;31mTypeError\u001b[0m                                 Traceback (most recent call last)",
      "Input \u001b[0;32mIn [13]\u001b[0m, in \u001b[0;36m<cell line: 1>\u001b[0;34m()\u001b[0m\n\u001b[0;32m----> 1\u001b[0m \u001b[43mdf\u001b[49m\u001b[43m(\u001b[49m\u001b[38;5;124;43m'\u001b[39;49m\u001b[38;5;124;43mA\u001b[39;49m\u001b[38;5;124;43m'\u001b[39;49m\u001b[43m)\u001b[49m\n",
      "\u001b[0;31mTypeError\u001b[0m: 'DataFrame' object is not callable"
     ]
    }
   ],
   "source": [
    "df('A')\n",
    "# python pandas data selection을 검색해보면 알겠지만 이유는 없이 그냥 중괄호를 쓴다."
   ]
  },
  {
   "cell_type": "code",
   "execution_count": 14,
   "id": "a90a0ef4",
   "metadata": {},
   "outputs": [
    {
     "data": {
      "text/plain": [
       "pandas.core.series.Series"
      ]
     },
     "execution_count": 14,
     "metadata": {},
     "output_type": "execute_result"
    }
   ],
   "source": [
    "type(df['A'])"
   ]
  },
  {
   "cell_type": "code",
   "execution_count": 15,
   "id": "96fe3b86",
   "metadata": {},
   "outputs": [
    {
     "data": {
      "text/plain": [
       "pandas.core.frame.DataFrame"
      ]
     },
     "execution_count": 15,
     "metadata": {},
     "output_type": "execute_result"
    }
   ],
   "source": [
    "type(df)"
   ]
  },
  {
   "cell_type": "code",
   "execution_count": 29,
   "id": "b8271b9a",
   "metadata": {},
   "outputs": [
    {
     "data": {
      "text/html": [
       "<div>\n",
       "<style scoped>\n",
       "    .dataframe tbody tr th:only-of-type {\n",
       "        vertical-align: middle;\n",
       "    }\n",
       "\n",
       "    .dataframe tbody tr th {\n",
       "        vertical-align: top;\n",
       "    }\n",
       "\n",
       "    .dataframe thead th {\n",
       "        text-align: right;\n",
       "    }\n",
       "</style>\n",
       "<table border=\"1\" class=\"dataframe\">\n",
       "  <thead>\n",
       "    <tr style=\"text-align: right;\">\n",
       "      <th></th>\n",
       "      <th>A</th>\n",
       "      <th>B</th>\n",
       "      <th>C</th>\n",
       "      <th>D</th>\n",
       "    </tr>\n",
       "  </thead>\n",
       "  <tbody>\n",
       "    <tr>\n",
       "      <th>2030-01-01</th>\n",
       "      <td>0.768699</td>\n",
       "      <td>-1.098979</td>\n",
       "      <td>-0.343557</td>\n",
       "      <td>-0.864977</td>\n",
       "    </tr>\n",
       "    <tr>\n",
       "      <th>2030-01-02</th>\n",
       "      <td>-2.823111</td>\n",
       "      <td>-1.607627</td>\n",
       "      <td>0.429596</td>\n",
       "      <td>1.274747</td>\n",
       "    </tr>\n",
       "    <tr>\n",
       "      <th>2030-01-03</th>\n",
       "      <td>0.714721</td>\n",
       "      <td>-0.059368</td>\n",
       "      <td>0.119246</td>\n",
       "      <td>-0.191528</td>\n",
       "    </tr>\n",
       "  </tbody>\n",
       "</table>\n",
       "</div>"
      ],
      "text/plain": [
       "                   A         B         C         D\n",
       "2030-01-01  0.768699 -1.098979 -0.343557 -0.864977\n",
       "2030-01-02 -2.823111 -1.607627  0.429596  1.274747\n",
       "2030-01-03  0.714721 -0.059368  0.119246 -0.191528"
      ]
     },
     "execution_count": 29,
     "metadata": {},
     "output_type": "execute_result"
    }
   ],
   "source": [
    "# 맨 처음 3개의 행을 가져옵니다. [i:n]: i+1부터 n까지\n",
    "df[0:3]"
   ]
  },
  {
   "cell_type": "code",
   "execution_count": 19,
   "id": "ec9a3a5d",
   "metadata": {},
   "outputs": [
    {
     "data": {
      "text/html": [
       "<div>\n",
       "<style scoped>\n",
       "    .dataframe tbody tr th:only-of-type {\n",
       "        vertical-align: middle;\n",
       "    }\n",
       "\n",
       "    .dataframe tbody tr th {\n",
       "        vertical-align: top;\n",
       "    }\n",
       "\n",
       "    .dataframe thead th {\n",
       "        text-align: right;\n",
       "    }\n",
       "</style>\n",
       "<table border=\"1\" class=\"dataframe\">\n",
       "  <thead>\n",
       "    <tr style=\"text-align: right;\">\n",
       "      <th></th>\n",
       "      <th>A</th>\n",
       "      <th>B</th>\n",
       "      <th>C</th>\n",
       "      <th>D</th>\n",
       "    </tr>\n",
       "  </thead>\n",
       "  <tbody>\n",
       "    <tr>\n",
       "      <th>2030-01-01</th>\n",
       "      <td>0.768699</td>\n",
       "      <td>-1.098979</td>\n",
       "      <td>-0.343557</td>\n",
       "      <td>-0.864977</td>\n",
       "    </tr>\n",
       "    <tr>\n",
       "      <th>2030-01-02</th>\n",
       "      <td>-2.823111</td>\n",
       "      <td>-1.607627</td>\n",
       "      <td>0.429596</td>\n",
       "      <td>1.274747</td>\n",
       "    </tr>\n",
       "    <tr>\n",
       "      <th>2030-01-03</th>\n",
       "      <td>0.714721</td>\n",
       "      <td>-0.059368</td>\n",
       "      <td>0.119246</td>\n",
       "      <td>-0.191528</td>\n",
       "    </tr>\n",
       "  </tbody>\n",
       "</table>\n",
       "</div>"
      ],
      "text/plain": [
       "                   A         B         C         D\n",
       "2030-01-01  0.768699 -1.098979 -0.343557 -0.864977\n",
       "2030-01-02 -2.823111 -1.607627  0.429596  1.274747\n",
       "2030-01-03  0.714721 -0.059368  0.119246 -0.191528"
      ]
     },
     "execution_count": 19,
     "metadata": {},
     "output_type": "execute_result"
    }
   ],
   "source": [
    "df.head(3)"
   ]
  },
  {
   "cell_type": "code",
   "execution_count": 20,
   "id": "021d3a69",
   "metadata": {},
   "outputs": [
    {
     "data": {
      "text/html": [
       "<div>\n",
       "<style scoped>\n",
       "    .dataframe tbody tr th:only-of-type {\n",
       "        vertical-align: middle;\n",
       "    }\n",
       "\n",
       "    .dataframe tbody tr th {\n",
       "        vertical-align: top;\n",
       "    }\n",
       "\n",
       "    .dataframe thead th {\n",
       "        text-align: right;\n",
       "    }\n",
       "</style>\n",
       "<table border=\"1\" class=\"dataframe\">\n",
       "  <thead>\n",
       "    <tr style=\"text-align: right;\">\n",
       "      <th></th>\n",
       "      <th>A</th>\n",
       "      <th>B</th>\n",
       "      <th>C</th>\n",
       "      <th>D</th>\n",
       "    </tr>\n",
       "  </thead>\n",
       "  <tbody>\n",
       "    <tr>\n",
       "      <th>2030-01-01</th>\n",
       "      <td>0.768699</td>\n",
       "      <td>-1.098979</td>\n",
       "      <td>-0.343557</td>\n",
       "      <td>-0.864977</td>\n",
       "    </tr>\n",
       "    <tr>\n",
       "      <th>2030-01-02</th>\n",
       "      <td>-2.823111</td>\n",
       "      <td>-1.607627</td>\n",
       "      <td>0.429596</td>\n",
       "      <td>1.274747</td>\n",
       "    </tr>\n",
       "    <tr>\n",
       "      <th>2030-01-03</th>\n",
       "      <td>0.714721</td>\n",
       "      <td>-0.059368</td>\n",
       "      <td>0.119246</td>\n",
       "      <td>-0.191528</td>\n",
       "    </tr>\n",
       "    <tr>\n",
       "      <th>2030-01-04</th>\n",
       "      <td>-0.673186</td>\n",
       "      <td>-1.766074</td>\n",
       "      <td>0.286011</td>\n",
       "      <td>-1.464146</td>\n",
       "    </tr>\n",
       "    <tr>\n",
       "      <th>2030-01-05</th>\n",
       "      <td>-1.008263</td>\n",
       "      <td>-0.440218</td>\n",
       "      <td>0.212856</td>\n",
       "      <td>-0.583405</td>\n",
       "    </tr>\n",
       "  </tbody>\n",
       "</table>\n",
       "</div>"
      ],
      "text/plain": [
       "                   A         B         C         D\n",
       "2030-01-01  0.768699 -1.098979 -0.343557 -0.864977\n",
       "2030-01-02 -2.823111 -1.607627  0.429596  1.274747\n",
       "2030-01-03  0.714721 -0.059368  0.119246 -0.191528\n",
       "2030-01-04 -0.673186 -1.766074  0.286011 -1.464146\n",
       "2030-01-05 -1.008263 -0.440218  0.212856 -0.583405"
      ]
     },
     "execution_count": 20,
     "metadata": {},
     "output_type": "execute_result"
    }
   ],
   "source": [
    "df.head()"
   ]
  },
  {
   "cell_type": "code",
   "execution_count": 32,
   "id": "abadfab4",
   "metadata": {},
   "outputs": [
    {
     "data": {
      "text/html": [
       "<div>\n",
       "<style scoped>\n",
       "    .dataframe tbody tr th:only-of-type {\n",
       "        vertical-align: middle;\n",
       "    }\n",
       "\n",
       "    .dataframe tbody tr th {\n",
       "        vertical-align: top;\n",
       "    }\n",
       "\n",
       "    .dataframe thead th {\n",
       "        text-align: right;\n",
       "    }\n",
       "</style>\n",
       "<table border=\"1\" class=\"dataframe\">\n",
       "  <thead>\n",
       "    <tr style=\"text-align: right;\">\n",
       "      <th></th>\n",
       "      <th>A</th>\n",
       "      <th>B</th>\n",
       "      <th>C</th>\n",
       "      <th>D</th>\n",
       "    </tr>\n",
       "  </thead>\n",
       "  <tbody>\n",
       "    <tr>\n",
       "      <th>2030-01-02</th>\n",
       "      <td>-2.823111</td>\n",
       "      <td>-1.607627</td>\n",
       "      <td>0.429596</td>\n",
       "      <td>1.274747</td>\n",
       "    </tr>\n",
       "    <tr>\n",
       "      <th>2030-01-03</th>\n",
       "      <td>0.714721</td>\n",
       "      <td>-0.059368</td>\n",
       "      <td>0.119246</td>\n",
       "      <td>-0.191528</td>\n",
       "    </tr>\n",
       "    <tr>\n",
       "      <th>2030-01-04</th>\n",
       "      <td>-0.673186</td>\n",
       "      <td>-1.766074</td>\n",
       "      <td>0.286011</td>\n",
       "      <td>-1.464146</td>\n",
       "    </tr>\n",
       "  </tbody>\n",
       "</table>\n",
       "</div>"
      ],
      "text/plain": [
       "                   A         B         C         D\n",
       "2030-01-02 -2.823111 -1.607627  0.429596  1.274747\n",
       "2030-01-03  0.714721 -0.059368  0.119246 -0.191528\n",
       "2030-01-04 -0.673186 -1.766074  0.286011 -1.464146"
      ]
     },
     "execution_count": 32,
     "metadata": {},
     "output_type": "execute_result"
    }
   ],
   "source": [
    "# 인덱스명에 해당하는 값을 가져옵니다.\n",
    "df['20300102':'20300104']"
   ]
  },
  {
   "cell_type": "code",
   "execution_count": 31,
   "id": "dd3570b6",
   "metadata": {},
   "outputs": [
    {
     "data": {
      "text/plain": [
       "A    0.768699\n",
       "B   -1.098979\n",
       "C   -0.343557\n",
       "D   -0.864977\n",
       "Name: 2030-01-01 00:00:00, dtype: float64"
      ]
     },
     "execution_count": 31,
     "metadata": {},
     "output_type": "execute_result"
    }
   ],
   "source": [
    "# 이름을 이용해 선택하기 .loc\n",
    "df.loc[dates[0]]"
   ]
  },
  {
   "cell_type": "code",
   "execution_count": 33,
   "id": "d0441a3a",
   "metadata": {},
   "outputs": [
    {
     "data": {
      "text/html": [
       "<div>\n",
       "<style scoped>\n",
       "    .dataframe tbody tr th:only-of-type {\n",
       "        vertical-align: middle;\n",
       "    }\n",
       "\n",
       "    .dataframe tbody tr th {\n",
       "        vertical-align: top;\n",
       "    }\n",
       "\n",
       "    .dataframe thead th {\n",
       "        text-align: right;\n",
       "    }\n",
       "</style>\n",
       "<table border=\"1\" class=\"dataframe\">\n",
       "  <thead>\n",
       "    <tr style=\"text-align: right;\">\n",
       "      <th></th>\n",
       "      <th>A</th>\n",
       "      <th>B</th>\n",
       "    </tr>\n",
       "  </thead>\n",
       "  <tbody>\n",
       "    <tr>\n",
       "      <th>2030-01-01</th>\n",
       "      <td>0.768699</td>\n",
       "      <td>-1.098979</td>\n",
       "    </tr>\n",
       "    <tr>\n",
       "      <th>2030-01-02</th>\n",
       "      <td>-2.823111</td>\n",
       "      <td>-1.607627</td>\n",
       "    </tr>\n",
       "    <tr>\n",
       "      <th>2030-01-03</th>\n",
       "      <td>0.714721</td>\n",
       "      <td>-0.059368</td>\n",
       "    </tr>\n",
       "    <tr>\n",
       "      <th>2030-01-04</th>\n",
       "      <td>-0.673186</td>\n",
       "      <td>-1.766074</td>\n",
       "    </tr>\n",
       "    <tr>\n",
       "      <th>2030-01-05</th>\n",
       "      <td>-1.008263</td>\n",
       "      <td>-0.440218</td>\n",
       "    </tr>\n",
       "    <tr>\n",
       "      <th>2030-01-06</th>\n",
       "      <td>-1.064194</td>\n",
       "      <td>-0.171941</td>\n",
       "    </tr>\n",
       "  </tbody>\n",
       "</table>\n",
       "</div>"
      ],
      "text/plain": [
       "                   A         B\n",
       "2030-01-01  0.768699 -1.098979\n",
       "2030-01-02 -2.823111 -1.607627\n",
       "2030-01-03  0.714721 -0.059368\n",
       "2030-01-04 -0.673186 -1.766074\n",
       "2030-01-05 -1.008263 -0.440218\n",
       "2030-01-06 -1.064194 -0.171941"
      ]
     },
     "execution_count": 33,
     "metadata": {},
     "output_type": "execute_result"
    }
   ],
   "source": [
    "# 여러 칼럼 가져오기.\n",
    "df.loc[:, ['A', 'B']]"
   ]
  },
  {
   "cell_type": "code",
   "execution_count": 35,
   "id": "c91afc24",
   "metadata": {},
   "outputs": [
    {
     "ename": "SyntaxError",
     "evalue": "invalid syntax (3414537042.py, line 2)",
     "output_type": "error",
     "traceback": [
      "\u001b[0;36m  Input \u001b[0;32mIn [35]\u001b[0;36m\u001b[0m\n\u001b[0;31m    df.loc['20300102':'20300104', ['A':'B']]\u001b[0m\n\u001b[0m                                      ^\u001b[0m\n\u001b[0;31mSyntaxError\u001b[0m\u001b[0;31m:\u001b[0m invalid syntax\n"
     ]
    }
   ],
   "source": [
    "# 원하는 구간 가져오기\n",
    "df.loc['20300102':'20300104', ['A', 'B']]"
   ]
  },
  {
   "cell_type": "code",
   "execution_count": 36,
   "id": "7f6f620d",
   "metadata": {},
   "outputs": [
    {
     "ename": "SyntaxError",
     "evalue": "invalid syntax (3286074381.py, line 2)",
     "output_type": "error",
     "traceback": [
      "\u001b[0;36m  Input \u001b[0;32mIn [36]\u001b[0;36m\u001b[0m\n\u001b[0;31m    df.loc['20300102':'20300104', ['A':'B']]\u001b[0m\n\u001b[0m                                      ^\u001b[0m\n\u001b[0;31mSyntaxError\u001b[0m\u001b[0;31m:\u001b[0m invalid syntax\n"
     ]
    }
   ],
   "source": [
    "# df.loc[a:b, [c:d]]가 아니라 [c,d]임\n",
    "df.loc['20300102':'20300104', ['A':'B']]\n",
    "# Error 뜰 것임"
   ]
  },
  {
   "cell_type": "code",
   "execution_count": 37,
   "id": "d2659ac9",
   "metadata": {},
   "outputs": [
    {
     "data": {
      "text/plain": [
       "A    0.768699\n",
       "B   -1.098979\n",
       "Name: 2030-01-01 00:00:00, dtype: float64"
      ]
     },
     "execution_count": 37,
     "metadata": {},
     "output_type": "execute_result"
    }
   ],
   "source": [
    "# 특정 인덱스 값의 칼럼 'A', 'B' 가져오기\n",
    "df.loc[dates[0], ['A', 'B']]"
   ]
  },
  {
   "cell_type": "code",
   "execution_count": 38,
   "id": "17a20b07",
   "metadata": {},
   "outputs": [
    {
     "data": {
      "text/plain": [
       "0.7686992409116212"
      ]
     },
     "execution_count": 38,
     "metadata": {},
     "output_type": "execute_result"
    }
   ],
   "source": [
    "# 특정 인덱스 값과 특정 칼럼에 있는 값 가져오기\n",
    "# df.loc[dates[0], 'A']도 되고 df.at\n",
    "# python pasdas loc vs at\n",
    "df.at[dates[0], 'A']"
   ]
  },
  {
   "cell_type": "code",
   "execution_count": 39,
   "id": "9048b645",
   "metadata": {},
   "outputs": [
    {
     "data": {
      "text/plain": [
       "0.7686992409116212"
      ]
     },
     "execution_count": 39,
     "metadata": {},
     "output_type": "execute_result"
    }
   ],
   "source": [
    "df.loc[dates[0], 'A']"
   ]
  },
  {
   "cell_type": "code",
   "execution_count": 41,
   "id": "d4d7b198",
   "metadata": {},
   "outputs": [
    {
     "data": {
      "text/plain": [
       "A   -0.673186\n",
       "B   -1.766074\n",
       "C    0.286011\n",
       "D   -1.464146\n",
       "Name: 2030-01-04 00:00:00, dtype: float64"
      ]
     },
     "execution_count": 41,
     "metadata": {},
     "output_type": "execute_result"
    }
   ],
   "source": [
    "# 위치를 이용해 선택하기\n",
    "# iloc: integer location\n",
    "df.iloc[3] # 4번째 값임(0 1 2 '3')"
   ]
  },
  {
   "cell_type": "code",
   "execution_count": 42,
   "id": "09a2f91e",
   "metadata": {},
   "outputs": [
    {
     "data": {
      "text/html": [
       "<div>\n",
       "<style scoped>\n",
       "    .dataframe tbody tr th:only-of-type {\n",
       "        vertical-align: middle;\n",
       "    }\n",
       "\n",
       "    .dataframe tbody tr th {\n",
       "        vertical-align: top;\n",
       "    }\n",
       "\n",
       "    .dataframe thead th {\n",
       "        text-align: right;\n",
       "    }\n",
       "</style>\n",
       "<table border=\"1\" class=\"dataframe\">\n",
       "  <thead>\n",
       "    <tr style=\"text-align: right;\">\n",
       "      <th></th>\n",
       "      <th>A</th>\n",
       "      <th>B</th>\n",
       "    </tr>\n",
       "  </thead>\n",
       "  <tbody>\n",
       "    <tr>\n",
       "      <th>2030-01-04</th>\n",
       "      <td>-0.673186</td>\n",
       "      <td>-1.766074</td>\n",
       "    </tr>\n",
       "    <tr>\n",
       "      <th>2030-01-05</th>\n",
       "      <td>-1.008263</td>\n",
       "      <td>-0.440218</td>\n",
       "    </tr>\n",
       "  </tbody>\n",
       "</table>\n",
       "</div>"
      ],
      "text/plain": [
       "                   A         B\n",
       "2030-01-04 -0.673186 -1.766074\n",
       "2030-01-05 -1.008263 -0.440218"
      ]
     },
     "execution_count": 42,
     "metadata": {},
     "output_type": "execute_result"
    }
   ],
   "source": [
    "# 위치를 이용해 범위 선택하기\n",
    "df.iloc[3:5, 0:2]"
   ]
  },
  {
   "cell_type": "code",
   "execution_count": 43,
   "id": "fc160a80",
   "metadata": {},
   "outputs": [
    {
     "data": {
      "text/html": [
       "<div>\n",
       "<style scoped>\n",
       "    .dataframe tbody tr th:only-of-type {\n",
       "        vertical-align: middle;\n",
       "    }\n",
       "\n",
       "    .dataframe tbody tr th {\n",
       "        vertical-align: top;\n",
       "    }\n",
       "\n",
       "    .dataframe thead th {\n",
       "        text-align: right;\n",
       "    }\n",
       "</style>\n",
       "<table border=\"1\" class=\"dataframe\">\n",
       "  <thead>\n",
       "    <tr style=\"text-align: right;\">\n",
       "      <th></th>\n",
       "      <th>A</th>\n",
       "      <th>C</th>\n",
       "    </tr>\n",
       "  </thead>\n",
       "  <tbody>\n",
       "    <tr>\n",
       "      <th>2030-01-02</th>\n",
       "      <td>-2.823111</td>\n",
       "      <td>0.429596</td>\n",
       "    </tr>\n",
       "    <tr>\n",
       "      <th>2030-01-03</th>\n",
       "      <td>0.714721</td>\n",
       "      <td>0.119246</td>\n",
       "    </tr>\n",
       "    <tr>\n",
       "      <th>2030-01-05</th>\n",
       "      <td>-1.008263</td>\n",
       "      <td>0.212856</td>\n",
       "    </tr>\n",
       "  </tbody>\n",
       "</table>\n",
       "</div>"
      ],
      "text/plain": [
       "                   A         C\n",
       "2030-01-02 -2.823111  0.429596\n",
       "2030-01-03  0.714721  0.119246\n",
       "2030-01-05 -1.008263  0.212856"
      ]
     },
     "execution_count": 43,
     "metadata": {},
     "output_type": "execute_result"
    }
   ],
   "source": [
    "# 행과 열의 인덱스로 리스트에 넘겨주기\n",
    "# 2, 3, 5번째 행 + 1, 3번째 열\n",
    "df.iloc[[1,2,4],[0,2]]"
   ]
  },
  {
   "cell_type": "code",
   "execution_count": 46,
   "id": "cf1585c3",
   "metadata": {},
   "outputs": [
    {
     "data": {
      "text/html": [
       "<div>\n",
       "<style scoped>\n",
       "    .dataframe tbody tr th:only-of-type {\n",
       "        vertical-align: middle;\n",
       "    }\n",
       "\n",
       "    .dataframe tbody tr th {\n",
       "        vertical-align: top;\n",
       "    }\n",
       "\n",
       "    .dataframe thead th {\n",
       "        text-align: right;\n",
       "    }\n",
       "</style>\n",
       "<table border=\"1\" class=\"dataframe\">\n",
       "  <thead>\n",
       "    <tr style=\"text-align: right;\">\n",
       "      <th></th>\n",
       "      <th>A</th>\n",
       "      <th>B</th>\n",
       "      <th>C</th>\n",
       "      <th>D</th>\n",
       "    </tr>\n",
       "  </thead>\n",
       "  <tbody>\n",
       "    <tr>\n",
       "      <th>2030-01-02</th>\n",
       "      <td>-2.823111</td>\n",
       "      <td>-1.607627</td>\n",
       "      <td>0.429596</td>\n",
       "      <td>1.274747</td>\n",
       "    </tr>\n",
       "    <tr>\n",
       "      <th>2030-01-03</th>\n",
       "      <td>0.714721</td>\n",
       "      <td>-0.059368</td>\n",
       "      <td>0.119246</td>\n",
       "      <td>-0.191528</td>\n",
       "    </tr>\n",
       "  </tbody>\n",
       "</table>\n",
       "</div>"
      ],
      "text/plain": [
       "                   A         B         C         D\n",
       "2030-01-02 -2.823111 -1.607627  0.429596  1.274747\n",
       "2030-01-03  0.714721 -0.059368  0.119246 -0.191528"
      ]
     },
     "execution_count": 46,
     "metadata": {},
     "output_type": "execute_result"
    }
   ],
   "source": [
    "# : -> 열이나 행 전체를 가져오는 기호\n",
    "df.iloc[1:3, :] # = df.iloc[1:3, 0:3] = df.iloc[1:3]"
   ]
  },
  {
   "cell_type": "code",
   "execution_count": 50,
   "id": "a128a1e2",
   "metadata": {},
   "outputs": [
    {
     "data": {
      "text/html": [
       "<div>\n",
       "<style scoped>\n",
       "    .dataframe tbody tr th:only-of-type {\n",
       "        vertical-align: middle;\n",
       "    }\n",
       "\n",
       "    .dataframe tbody tr th {\n",
       "        vertical-align: top;\n",
       "    }\n",
       "\n",
       "    .dataframe thead th {\n",
       "        text-align: right;\n",
       "    }\n",
       "</style>\n",
       "<table border=\"1\" class=\"dataframe\">\n",
       "  <thead>\n",
       "    <tr style=\"text-align: right;\">\n",
       "      <th></th>\n",
       "      <th>B</th>\n",
       "      <th>C</th>\n",
       "    </tr>\n",
       "  </thead>\n",
       "  <tbody>\n",
       "    <tr>\n",
       "      <th>2030-01-01</th>\n",
       "      <td>-1.098979</td>\n",
       "      <td>-0.343557</td>\n",
       "    </tr>\n",
       "    <tr>\n",
       "      <th>2030-01-02</th>\n",
       "      <td>-1.607627</td>\n",
       "      <td>0.429596</td>\n",
       "    </tr>\n",
       "    <tr>\n",
       "      <th>2030-01-03</th>\n",
       "      <td>-0.059368</td>\n",
       "      <td>0.119246</td>\n",
       "    </tr>\n",
       "    <tr>\n",
       "      <th>2030-01-04</th>\n",
       "      <td>-1.766074</td>\n",
       "      <td>0.286011</td>\n",
       "    </tr>\n",
       "    <tr>\n",
       "      <th>2030-01-05</th>\n",
       "      <td>-0.440218</td>\n",
       "      <td>0.212856</td>\n",
       "    </tr>\n",
       "    <tr>\n",
       "      <th>2030-01-06</th>\n",
       "      <td>-0.171941</td>\n",
       "      <td>0.427911</td>\n",
       "    </tr>\n",
       "  </tbody>\n",
       "</table>\n",
       "</div>"
      ],
      "text/plain": [
       "                   B         C\n",
       "2030-01-01 -1.098979 -0.343557\n",
       "2030-01-02 -1.607627  0.429596\n",
       "2030-01-03 -0.059368  0.119246\n",
       "2030-01-04 -1.766074  0.286011\n",
       "2030-01-05 -0.440218  0.212856\n",
       "2030-01-06 -0.171941  0.427911"
      ]
     },
     "execution_count": 50,
     "metadata": {},
     "output_type": "execute_result"
    }
   ],
   "source": [
    "df.iloc[:, 1:3] # != df.iloc[,1:3] 이상하게도 행은 꼭 입력해줘야 함"
   ]
  },
  {
   "cell_type": "code",
   "execution_count": 51,
   "id": "3f60fd6e",
   "metadata": {},
   "outputs": [
    {
     "data": {
      "text/html": [
       "<div>\n",
       "<style scoped>\n",
       "    .dataframe tbody tr th:only-of-type {\n",
       "        vertical-align: middle;\n",
       "    }\n",
       "\n",
       "    .dataframe tbody tr th {\n",
       "        vertical-align: top;\n",
       "    }\n",
       "\n",
       "    .dataframe thead th {\n",
       "        text-align: right;\n",
       "    }\n",
       "</style>\n",
       "<table border=\"1\" class=\"dataframe\">\n",
       "  <thead>\n",
       "    <tr style=\"text-align: right;\">\n",
       "      <th></th>\n",
       "      <th>A</th>\n",
       "      <th>B</th>\n",
       "      <th>C</th>\n",
       "      <th>D</th>\n",
       "    </tr>\n",
       "  </thead>\n",
       "  <tbody>\n",
       "    <tr>\n",
       "      <th>2030-01-01</th>\n",
       "      <td>0.768699</td>\n",
       "      <td>-1.098979</td>\n",
       "      <td>-0.343557</td>\n",
       "      <td>-0.864977</td>\n",
       "    </tr>\n",
       "    <tr>\n",
       "      <th>2030-01-03</th>\n",
       "      <td>0.714721</td>\n",
       "      <td>-0.059368</td>\n",
       "      <td>0.119246</td>\n",
       "      <td>-0.191528</td>\n",
       "    </tr>\n",
       "  </tbody>\n",
       "</table>\n",
       "</div>"
      ],
      "text/plain": [
       "                   A         B         C         D\n",
       "2030-01-01  0.768699 -1.098979 -0.343557 -0.864977\n",
       "2030-01-03  0.714721 -0.059368  0.119246 -0.191528"
      ]
     },
     "execution_count": 51,
     "metadata": {},
     "output_type": "execute_result"
    }
   ],
   "source": [
    "# 조건을 이용하기\n",
    "df[df.A > 0]"
   ]
  },
  {
   "cell_type": "code",
   "execution_count": 52,
   "id": "d0f3b0e9",
   "metadata": {},
   "outputs": [
    {
     "data": {
      "text/html": [
       "<div>\n",
       "<style scoped>\n",
       "    .dataframe tbody tr th:only-of-type {\n",
       "        vertical-align: middle;\n",
       "    }\n",
       "\n",
       "    .dataframe tbody tr th {\n",
       "        vertical-align: top;\n",
       "    }\n",
       "\n",
       "    .dataframe thead th {\n",
       "        text-align: right;\n",
       "    }\n",
       "</style>\n",
       "<table border=\"1\" class=\"dataframe\">\n",
       "  <thead>\n",
       "    <tr style=\"text-align: right;\">\n",
       "      <th></th>\n",
       "      <th>A</th>\n",
       "      <th>B</th>\n",
       "      <th>C</th>\n",
       "      <th>D</th>\n",
       "    </tr>\n",
       "  </thead>\n",
       "  <tbody>\n",
       "    <tr>\n",
       "      <th>2030-01-01</th>\n",
       "      <td>0.768699</td>\n",
       "      <td>NaN</td>\n",
       "      <td>NaN</td>\n",
       "      <td>NaN</td>\n",
       "    </tr>\n",
       "    <tr>\n",
       "      <th>2030-01-02</th>\n",
       "      <td>NaN</td>\n",
       "      <td>NaN</td>\n",
       "      <td>0.429596</td>\n",
       "      <td>1.274747</td>\n",
       "    </tr>\n",
       "    <tr>\n",
       "      <th>2030-01-03</th>\n",
       "      <td>0.714721</td>\n",
       "      <td>NaN</td>\n",
       "      <td>0.119246</td>\n",
       "      <td>NaN</td>\n",
       "    </tr>\n",
       "    <tr>\n",
       "      <th>2030-01-04</th>\n",
       "      <td>NaN</td>\n",
       "      <td>NaN</td>\n",
       "      <td>0.286011</td>\n",
       "      <td>NaN</td>\n",
       "    </tr>\n",
       "    <tr>\n",
       "      <th>2030-01-05</th>\n",
       "      <td>NaN</td>\n",
       "      <td>NaN</td>\n",
       "      <td>0.212856</td>\n",
       "      <td>NaN</td>\n",
       "    </tr>\n",
       "    <tr>\n",
       "      <th>2030-01-06</th>\n",
       "      <td>NaN</td>\n",
       "      <td>NaN</td>\n",
       "      <td>0.427911</td>\n",
       "      <td>0.997094</td>\n",
       "    </tr>\n",
       "  </tbody>\n",
       "</table>\n",
       "</div>"
      ],
      "text/plain": [
       "                   A   B         C         D\n",
       "2030-01-01  0.768699 NaN       NaN       NaN\n",
       "2030-01-02       NaN NaN  0.429596  1.274747\n",
       "2030-01-03  0.714721 NaN  0.119246       NaN\n",
       "2030-01-04       NaN NaN  0.286011       NaN\n",
       "2030-01-05       NaN NaN  0.212856       NaN\n",
       "2030-01-06       NaN NaN  0.427911  0.997094"
      ]
     },
     "execution_count": 52,
     "metadata": {},
     "output_type": "execute_result"
    }
   ],
   "source": [
    "df[df > 0]"
   ]
  },
  {
   "cell_type": "code",
   "execution_count": 55,
   "id": "73960891",
   "metadata": {},
   "outputs": [
    {
     "data": {
      "text/html": [
       "<div>\n",
       "<style scoped>\n",
       "    .dataframe tbody tr th:only-of-type {\n",
       "        vertical-align: middle;\n",
       "    }\n",
       "\n",
       "    .dataframe tbody tr th {\n",
       "        vertical-align: top;\n",
       "    }\n",
       "\n",
       "    .dataframe thead th {\n",
       "        text-align: right;\n",
       "    }\n",
       "</style>\n",
       "<table border=\"1\" class=\"dataframe\">\n",
       "  <thead>\n",
       "    <tr style=\"text-align: right;\">\n",
       "      <th></th>\n",
       "      <th>A</th>\n",
       "      <th>B</th>\n",
       "      <th>C</th>\n",
       "      <th>D</th>\n",
       "      <th>E</th>\n",
       "    </tr>\n",
       "  </thead>\n",
       "  <tbody>\n",
       "    <tr>\n",
       "      <th>2030-01-01</th>\n",
       "      <td>0.768699</td>\n",
       "      <td>-1.098979</td>\n",
       "      <td>-0.343557</td>\n",
       "      <td>-0.864977</td>\n",
       "      <td>one</td>\n",
       "    </tr>\n",
       "    <tr>\n",
       "      <th>2030-01-02</th>\n",
       "      <td>-2.823111</td>\n",
       "      <td>-1.607627</td>\n",
       "      <td>0.429596</td>\n",
       "      <td>1.274747</td>\n",
       "      <td>one</td>\n",
       "    </tr>\n",
       "    <tr>\n",
       "      <th>2030-01-03</th>\n",
       "      <td>0.714721</td>\n",
       "      <td>-0.059368</td>\n",
       "      <td>0.119246</td>\n",
       "      <td>-0.191528</td>\n",
       "      <td>two</td>\n",
       "    </tr>\n",
       "    <tr>\n",
       "      <th>2030-01-04</th>\n",
       "      <td>-0.673186</td>\n",
       "      <td>-1.766074</td>\n",
       "      <td>0.286011</td>\n",
       "      <td>-1.464146</td>\n",
       "      <td>three</td>\n",
       "    </tr>\n",
       "    <tr>\n",
       "      <th>2030-01-05</th>\n",
       "      <td>-1.008263</td>\n",
       "      <td>-0.440218</td>\n",
       "      <td>0.212856</td>\n",
       "      <td>-0.583405</td>\n",
       "      <td>four</td>\n",
       "    </tr>\n",
       "    <tr>\n",
       "      <th>2030-01-06</th>\n",
       "      <td>-1.064194</td>\n",
       "      <td>-0.171941</td>\n",
       "      <td>0.427911</td>\n",
       "      <td>0.997094</td>\n",
       "      <td>three</td>\n",
       "    </tr>\n",
       "  </tbody>\n",
       "</table>\n",
       "</div>"
      ],
      "text/plain": [
       "                   A         B         C         D      E\n",
       "2030-01-01  0.768699 -1.098979 -0.343557 -0.864977    one\n",
       "2030-01-02 -2.823111 -1.607627  0.429596  1.274747    one\n",
       "2030-01-03  0.714721 -0.059368  0.119246 -0.191528    two\n",
       "2030-01-04 -0.673186 -1.766074  0.286011 -1.464146  three\n",
       "2030-01-05 -1.008263 -0.440218  0.212856 -0.583405   four\n",
       "2030-01-06 -1.064194 -0.171941  0.427911  0.997094  three"
      ]
     },
     "execution_count": 55,
     "metadata": {},
     "output_type": "execute_result"
    }
   ],
   "source": [
    "# 필터링 isin()\n",
    "df2 = df.copy()\n",
    "df2['E'] = ['one', 'one', 'two', 'three', 'four', 'three']\n",
    "df2"
   ]
  },
  {
   "cell_type": "code",
   "execution_count": 57,
   "id": "2ef55ad3",
   "metadata": {},
   "outputs": [
    {
     "data": {
      "text/html": [
       "<div>\n",
       "<style scoped>\n",
       "    .dataframe tbody tr th:only-of-type {\n",
       "        vertical-align: middle;\n",
       "    }\n",
       "\n",
       "    .dataframe tbody tr th {\n",
       "        vertical-align: top;\n",
       "    }\n",
       "\n",
       "    .dataframe thead th {\n",
       "        text-align: right;\n",
       "    }\n",
       "</style>\n",
       "<table border=\"1\" class=\"dataframe\">\n",
       "  <thead>\n",
       "    <tr style=\"text-align: right;\">\n",
       "      <th></th>\n",
       "      <th>A</th>\n",
       "      <th>B</th>\n",
       "      <th>C</th>\n",
       "      <th>D</th>\n",
       "      <th>E</th>\n",
       "    </tr>\n",
       "  </thead>\n",
       "  <tbody>\n",
       "    <tr>\n",
       "      <th>2030-01-03</th>\n",
       "      <td>0.714721</td>\n",
       "      <td>-0.059368</td>\n",
       "      <td>0.119246</td>\n",
       "      <td>-0.191528</td>\n",
       "      <td>two</td>\n",
       "    </tr>\n",
       "    <tr>\n",
       "      <th>2030-01-05</th>\n",
       "      <td>-1.008263</td>\n",
       "      <td>-0.440218</td>\n",
       "      <td>0.212856</td>\n",
       "      <td>-0.583405</td>\n",
       "      <td>four</td>\n",
       "    </tr>\n",
       "  </tbody>\n",
       "</table>\n",
       "</div>"
      ],
      "text/plain": [
       "                   A         B         C         D     E\n",
       "2030-01-03  0.714721 -0.059368  0.119246 -0.191528   two\n",
       "2030-01-05 -1.008263 -0.440218  0.212856 -0.583405  four"
      ]
     },
     "execution_count": 57,
     "metadata": {},
     "output_type": "execute_result"
    }
   ],
   "source": [
    "df2[df2['E'].isin(['two', 'four'])]"
   ]
  },
  {
   "cell_type": "code",
   "execution_count": 65,
   "id": "70cee4fc",
   "metadata": {},
   "outputs": [
    {
     "data": {
      "text/plain": [
       "0    1\n",
       "1    2\n",
       "2    3\n",
       "3    4\n",
       "4    5\n",
       "5    6\n",
       "dtype: int64"
      ]
     },
     "execution_count": 65,
     "metadata": {},
     "output_type": "execute_result"
    }
   ],
   "source": [
    "# 데이터 변경하기\n",
    "s1 = pd.Series([1,2,3,4,5,6])\n",
    "s1"
   ]
  },
  {
   "cell_type": "code",
   "execution_count": 66,
   "id": "6426b3ee",
   "metadata": {},
   "outputs": [
    {
     "data": {
      "text/html": [
       "<div>\n",
       "<style scoped>\n",
       "    .dataframe tbody tr th:only-of-type {\n",
       "        vertical-align: middle;\n",
       "    }\n",
       "\n",
       "    .dataframe tbody tr th {\n",
       "        vertical-align: top;\n",
       "    }\n",
       "\n",
       "    .dataframe thead th {\n",
       "        text-align: right;\n",
       "    }\n",
       "</style>\n",
       "<table border=\"1\" class=\"dataframe\">\n",
       "  <thead>\n",
       "    <tr style=\"text-align: right;\">\n",
       "      <th></th>\n",
       "      <th>A</th>\n",
       "      <th>B</th>\n",
       "      <th>C</th>\n",
       "      <th>D</th>\n",
       "      <th>F</th>\n",
       "    </tr>\n",
       "  </thead>\n",
       "  <tbody>\n",
       "    <tr>\n",
       "      <th>2030-01-01</th>\n",
       "      <td>0.000000</td>\n",
       "      <td>-1.098979</td>\n",
       "      <td>-0.343557</td>\n",
       "      <td>-0.864977</td>\n",
       "      <td>NaN</td>\n",
       "    </tr>\n",
       "    <tr>\n",
       "      <th>2030-01-02</th>\n",
       "      <td>-2.823111</td>\n",
       "      <td>-1.607627</td>\n",
       "      <td>0.429596</td>\n",
       "      <td>1.274747</td>\n",
       "      <td>NaN</td>\n",
       "    </tr>\n",
       "    <tr>\n",
       "      <th>2030-01-03</th>\n",
       "      <td>0.714721</td>\n",
       "      <td>-0.059368</td>\n",
       "      <td>0.119246</td>\n",
       "      <td>-0.191528</td>\n",
       "      <td>NaN</td>\n",
       "    </tr>\n",
       "    <tr>\n",
       "      <th>2030-01-04</th>\n",
       "      <td>-0.673186</td>\n",
       "      <td>-1.766074</td>\n",
       "      <td>0.286011</td>\n",
       "      <td>-1.464146</td>\n",
       "      <td>NaN</td>\n",
       "    </tr>\n",
       "    <tr>\n",
       "      <th>2030-01-05</th>\n",
       "      <td>-1.008263</td>\n",
       "      <td>-0.440218</td>\n",
       "      <td>0.212856</td>\n",
       "      <td>-0.583405</td>\n",
       "      <td>NaN</td>\n",
       "    </tr>\n",
       "    <tr>\n",
       "      <th>2030-01-06</th>\n",
       "      <td>-1.064194</td>\n",
       "      <td>-0.171941</td>\n",
       "      <td>0.427911</td>\n",
       "      <td>0.997094</td>\n",
       "      <td>NaN</td>\n",
       "    </tr>\n",
       "  </tbody>\n",
       "</table>\n",
       "</div>"
      ],
      "text/plain": [
       "                   A         B         C         D   F\n",
       "2030-01-01  0.000000 -1.098979 -0.343557 -0.864977 NaN\n",
       "2030-01-02 -2.823111 -1.607627  0.429596  1.274747 NaN\n",
       "2030-01-03  0.714721 -0.059368  0.119246 -0.191528 NaN\n",
       "2030-01-04 -0.673186 -1.766074  0.286011 -1.464146 NaN\n",
       "2030-01-05 -1.008263 -0.440218  0.212856 -0.583405 NaN\n",
       "2030-01-06 -1.064194 -0.171941  0.427911  0.997094 NaN"
      ]
     },
     "execution_count": 66,
     "metadata": {},
     "output_type": "execute_result"
    }
   ],
   "source": [
    "df['F'] = s1\n",
    "df\n",
    "# 뭔가 잘못됐다."
   ]
  },
  {
   "cell_type": "code",
   "execution_count": 67,
   "id": "55342dfa",
   "metadata": {},
   "outputs": [
    {
     "data": {
      "text/plain": [
       "2030-01-01    1\n",
       "2030-01-02    2\n",
       "2030-01-03    3\n",
       "2030-01-04    4\n",
       "2030-01-05    5\n",
       "2030-01-06    6\n",
       "Freq: D, dtype: int64"
      ]
     },
     "execution_count": 67,
     "metadata": {},
     "output_type": "execute_result"
    }
   ],
   "source": [
    "# 데이터 변경하기\n",
    "s1 = pd.Series([1,2,3,4,5,6], index=pd.date_range('20300101', periods=6))\n",
    "s1"
   ]
  },
  {
   "cell_type": "code",
   "execution_count": 68,
   "id": "2ad206f9",
   "metadata": {},
   "outputs": [
    {
     "data": {
      "text/html": [
       "<div>\n",
       "<style scoped>\n",
       "    .dataframe tbody tr th:only-of-type {\n",
       "        vertical-align: middle;\n",
       "    }\n",
       "\n",
       "    .dataframe tbody tr th {\n",
       "        vertical-align: top;\n",
       "    }\n",
       "\n",
       "    .dataframe thead th {\n",
       "        text-align: right;\n",
       "    }\n",
       "</style>\n",
       "<table border=\"1\" class=\"dataframe\">\n",
       "  <thead>\n",
       "    <tr style=\"text-align: right;\">\n",
       "      <th></th>\n",
       "      <th>A</th>\n",
       "      <th>B</th>\n",
       "      <th>C</th>\n",
       "      <th>D</th>\n",
       "      <th>F</th>\n",
       "    </tr>\n",
       "  </thead>\n",
       "  <tbody>\n",
       "    <tr>\n",
       "      <th>2030-01-01</th>\n",
       "      <td>0.000000</td>\n",
       "      <td>-1.098979</td>\n",
       "      <td>-0.343557</td>\n",
       "      <td>-0.864977</td>\n",
       "      <td>1</td>\n",
       "    </tr>\n",
       "    <tr>\n",
       "      <th>2030-01-02</th>\n",
       "      <td>-2.823111</td>\n",
       "      <td>-1.607627</td>\n",
       "      <td>0.429596</td>\n",
       "      <td>1.274747</td>\n",
       "      <td>2</td>\n",
       "    </tr>\n",
       "    <tr>\n",
       "      <th>2030-01-03</th>\n",
       "      <td>0.714721</td>\n",
       "      <td>-0.059368</td>\n",
       "      <td>0.119246</td>\n",
       "      <td>-0.191528</td>\n",
       "      <td>3</td>\n",
       "    </tr>\n",
       "    <tr>\n",
       "      <th>2030-01-04</th>\n",
       "      <td>-0.673186</td>\n",
       "      <td>-1.766074</td>\n",
       "      <td>0.286011</td>\n",
       "      <td>-1.464146</td>\n",
       "      <td>4</td>\n",
       "    </tr>\n",
       "    <tr>\n",
       "      <th>2030-01-05</th>\n",
       "      <td>-1.008263</td>\n",
       "      <td>-0.440218</td>\n",
       "      <td>0.212856</td>\n",
       "      <td>-0.583405</td>\n",
       "      <td>5</td>\n",
       "    </tr>\n",
       "    <tr>\n",
       "      <th>2030-01-06</th>\n",
       "      <td>-1.064194</td>\n",
       "      <td>-0.171941</td>\n",
       "      <td>0.427911</td>\n",
       "      <td>0.997094</td>\n",
       "      <td>6</td>\n",
       "    </tr>\n",
       "  </tbody>\n",
       "</table>\n",
       "</div>"
      ],
      "text/plain": [
       "                   A         B         C         D  F\n",
       "2030-01-01  0.000000 -1.098979 -0.343557 -0.864977  1\n",
       "2030-01-02 -2.823111 -1.607627  0.429596  1.274747  2\n",
       "2030-01-03  0.714721 -0.059368  0.119246 -0.191528  3\n",
       "2030-01-04 -0.673186 -1.766074  0.286011 -1.464146  4\n",
       "2030-01-05 -1.008263 -0.440218  0.212856 -0.583405  5\n",
       "2030-01-06 -1.064194 -0.171941  0.427911  0.997094  6"
      ]
     },
     "execution_count": 68,
     "metadata": {},
     "output_type": "execute_result"
    }
   ],
   "source": [
    "df['F'] = s1\n",
    "df"
   ]
  },
  {
   "cell_type": "code",
   "execution_count": 61,
   "id": "519de491",
   "metadata": {},
   "outputs": [
    {
     "data": {
      "text/html": [
       "<div>\n",
       "<style scoped>\n",
       "    .dataframe tbody tr th:only-of-type {\n",
       "        vertical-align: middle;\n",
       "    }\n",
       "\n",
       "    .dataframe tbody tr th {\n",
       "        vertical-align: top;\n",
       "    }\n",
       "\n",
       "    .dataframe thead th {\n",
       "        text-align: right;\n",
       "    }\n",
       "</style>\n",
       "<table border=\"1\" class=\"dataframe\">\n",
       "  <thead>\n",
       "    <tr style=\"text-align: right;\">\n",
       "      <th></th>\n",
       "      <th>A</th>\n",
       "      <th>B</th>\n",
       "      <th>C</th>\n",
       "      <th>D</th>\n",
       "      <th>F</th>\n",
       "    </tr>\n",
       "  </thead>\n",
       "  <tbody>\n",
       "    <tr>\n",
       "      <th>2030-01-01</th>\n",
       "      <td>0.000000</td>\n",
       "      <td>-1.098979</td>\n",
       "      <td>-0.343557</td>\n",
       "      <td>-0.864977</td>\n",
       "      <td>1</td>\n",
       "    </tr>\n",
       "    <tr>\n",
       "      <th>2030-01-02</th>\n",
       "      <td>-2.823111</td>\n",
       "      <td>-1.607627</td>\n",
       "      <td>0.429596</td>\n",
       "      <td>1.274747</td>\n",
       "      <td>2</td>\n",
       "    </tr>\n",
       "    <tr>\n",
       "      <th>2030-01-03</th>\n",
       "      <td>0.714721</td>\n",
       "      <td>-0.059368</td>\n",
       "      <td>0.119246</td>\n",
       "      <td>-0.191528</td>\n",
       "      <td>3</td>\n",
       "    </tr>\n",
       "    <tr>\n",
       "      <th>2030-01-04</th>\n",
       "      <td>-0.673186</td>\n",
       "      <td>-1.766074</td>\n",
       "      <td>0.286011</td>\n",
       "      <td>-1.464146</td>\n",
       "      <td>4</td>\n",
       "    </tr>\n",
       "    <tr>\n",
       "      <th>2030-01-05</th>\n",
       "      <td>-1.008263</td>\n",
       "      <td>-0.440218</td>\n",
       "      <td>0.212856</td>\n",
       "      <td>-0.583405</td>\n",
       "      <td>5</td>\n",
       "    </tr>\n",
       "    <tr>\n",
       "      <th>2030-01-06</th>\n",
       "      <td>-1.064194</td>\n",
       "      <td>-0.171941</td>\n",
       "      <td>0.427911</td>\n",
       "      <td>0.997094</td>\n",
       "      <td>6</td>\n",
       "    </tr>\n",
       "  </tbody>\n",
       "</table>\n",
       "</div>"
      ],
      "text/plain": [
       "                   A         B         C         D  F\n",
       "2030-01-01  0.000000 -1.098979 -0.343557 -0.864977  1\n",
       "2030-01-02 -2.823111 -1.607627  0.429596  1.274747  2\n",
       "2030-01-03  0.714721 -0.059368  0.119246 -0.191528  3\n",
       "2030-01-04 -0.673186 -1.766074  0.286011 -1.464146  4\n",
       "2030-01-05 -1.008263 -0.440218  0.212856 -0.583405  5\n",
       "2030-01-06 -1.064194 -0.171941  0.427911  0.997094  6"
      ]
     },
     "execution_count": 61,
     "metadata": {},
     "output_type": "execute_result"
    }
   ],
   "source": [
    "# 특정값 하나를 선택해 다른 값으로 바꾸기\n",
    "df.at[dates[0], 'A'] = 0\n",
    "# df.iat[0,1] = 0 과 같다.\n",
    "df"
   ]
  },
  {
   "cell_type": "code",
   "execution_count": 69,
   "id": "fc6ce68a",
   "metadata": {},
   "outputs": [
    {
     "data": {
      "text/html": [
       "<div>\n",
       "<style scoped>\n",
       "    .dataframe tbody tr th:only-of-type {\n",
       "        vertical-align: middle;\n",
       "    }\n",
       "\n",
       "    .dataframe tbody tr th {\n",
       "        vertical-align: top;\n",
       "    }\n",
       "\n",
       "    .dataframe thead th {\n",
       "        text-align: right;\n",
       "    }\n",
       "</style>\n",
       "<table border=\"1\" class=\"dataframe\">\n",
       "  <thead>\n",
       "    <tr style=\"text-align: right;\">\n",
       "      <th></th>\n",
       "      <th>A</th>\n",
       "      <th>B</th>\n",
       "      <th>C</th>\n",
       "      <th>D</th>\n",
       "      <th>F</th>\n",
       "    </tr>\n",
       "  </thead>\n",
       "  <tbody>\n",
       "    <tr>\n",
       "      <th>2030-01-01</th>\n",
       "      <td>0.000000</td>\n",
       "      <td>-1.098979</td>\n",
       "      <td>-0.343557</td>\n",
       "      <td>5</td>\n",
       "      <td>1</td>\n",
       "    </tr>\n",
       "    <tr>\n",
       "      <th>2030-01-02</th>\n",
       "      <td>-2.823111</td>\n",
       "      <td>-1.607627</td>\n",
       "      <td>0.429596</td>\n",
       "      <td>5</td>\n",
       "      <td>2</td>\n",
       "    </tr>\n",
       "    <tr>\n",
       "      <th>2030-01-03</th>\n",
       "      <td>0.714721</td>\n",
       "      <td>-0.059368</td>\n",
       "      <td>0.119246</td>\n",
       "      <td>5</td>\n",
       "      <td>3</td>\n",
       "    </tr>\n",
       "    <tr>\n",
       "      <th>2030-01-04</th>\n",
       "      <td>-0.673186</td>\n",
       "      <td>-1.766074</td>\n",
       "      <td>0.286011</td>\n",
       "      <td>5</td>\n",
       "      <td>4</td>\n",
       "    </tr>\n",
       "    <tr>\n",
       "      <th>2030-01-05</th>\n",
       "      <td>-1.008263</td>\n",
       "      <td>-0.440218</td>\n",
       "      <td>0.212856</td>\n",
       "      <td>5</td>\n",
       "      <td>5</td>\n",
       "    </tr>\n",
       "    <tr>\n",
       "      <th>2030-01-06</th>\n",
       "      <td>-1.064194</td>\n",
       "      <td>-0.171941</td>\n",
       "      <td>0.427911</td>\n",
       "      <td>5</td>\n",
       "      <td>6</td>\n",
       "    </tr>\n",
       "  </tbody>\n",
       "</table>\n",
       "</div>"
      ],
      "text/plain": [
       "                   A         B         C  D  F\n",
       "2030-01-01  0.000000 -1.098979 -0.343557  5  1\n",
       "2030-01-02 -2.823111 -1.607627  0.429596  5  2\n",
       "2030-01-03  0.714721 -0.059368  0.119246  5  3\n",
       "2030-01-04 -0.673186 -1.766074  0.286011  5  4\n",
       "2030-01-05 -1.008263 -0.440218  0.212856  5  5\n",
       "2030-01-06 -1.064194 -0.171941  0.427911  5  6"
      ]
     },
     "execution_count": 69,
     "metadata": {},
     "output_type": "execute_result"
    }
   ],
   "source": [
    "# 한 번에 여러 데이터 바꾸기\n",
    "df.loc[:, 'D'] = np.array([5] * len(df))\n",
    "df"
   ]
  },
  {
   "cell_type": "code",
   "execution_count": 70,
   "id": "32336b29",
   "metadata": {},
   "outputs": [
    {
     "data": {
      "text/html": [
       "<div>\n",
       "<style scoped>\n",
       "    .dataframe tbody tr th:only-of-type {\n",
       "        vertical-align: middle;\n",
       "    }\n",
       "\n",
       "    .dataframe tbody tr th {\n",
       "        vertical-align: top;\n",
       "    }\n",
       "\n",
       "    .dataframe thead th {\n",
       "        text-align: right;\n",
       "    }\n",
       "</style>\n",
       "<table border=\"1\" class=\"dataframe\">\n",
       "  <thead>\n",
       "    <tr style=\"text-align: right;\">\n",
       "      <th></th>\n",
       "      <th>A</th>\n",
       "      <th>B</th>\n",
       "      <th>C</th>\n",
       "      <th>D</th>\n",
       "      <th>F</th>\n",
       "    </tr>\n",
       "  </thead>\n",
       "  <tbody>\n",
       "    <tr>\n",
       "      <th>2030-01-01</th>\n",
       "      <td>0.000000</td>\n",
       "      <td>-1.098979</td>\n",
       "      <td>-0.343557</td>\n",
       "      <td>-5</td>\n",
       "      <td>-1</td>\n",
       "    </tr>\n",
       "    <tr>\n",
       "      <th>2030-01-02</th>\n",
       "      <td>-2.823111</td>\n",
       "      <td>-1.607627</td>\n",
       "      <td>-0.429596</td>\n",
       "      <td>-5</td>\n",
       "      <td>-2</td>\n",
       "    </tr>\n",
       "    <tr>\n",
       "      <th>2030-01-03</th>\n",
       "      <td>-0.714721</td>\n",
       "      <td>-0.059368</td>\n",
       "      <td>-0.119246</td>\n",
       "      <td>-5</td>\n",
       "      <td>-3</td>\n",
       "    </tr>\n",
       "    <tr>\n",
       "      <th>2030-01-04</th>\n",
       "      <td>-0.673186</td>\n",
       "      <td>-1.766074</td>\n",
       "      <td>-0.286011</td>\n",
       "      <td>-5</td>\n",
       "      <td>-4</td>\n",
       "    </tr>\n",
       "    <tr>\n",
       "      <th>2030-01-05</th>\n",
       "      <td>-1.008263</td>\n",
       "      <td>-0.440218</td>\n",
       "      <td>-0.212856</td>\n",
       "      <td>-5</td>\n",
       "      <td>-5</td>\n",
       "    </tr>\n",
       "    <tr>\n",
       "      <th>2030-01-06</th>\n",
       "      <td>-1.064194</td>\n",
       "      <td>-0.171941</td>\n",
       "      <td>-0.427911</td>\n",
       "      <td>-5</td>\n",
       "      <td>-6</td>\n",
       "    </tr>\n",
       "  </tbody>\n",
       "</table>\n",
       "</div>"
      ],
      "text/plain": [
       "                   A         B         C  D  F\n",
       "2030-01-01  0.000000 -1.098979 -0.343557 -5 -1\n",
       "2030-01-02 -2.823111 -1.607627 -0.429596 -5 -2\n",
       "2030-01-03 -0.714721 -0.059368 -0.119246 -5 -3\n",
       "2030-01-04 -0.673186 -1.766074 -0.286011 -5 -4\n",
       "2030-01-05 -1.008263 -0.440218 -0.212856 -5 -5\n",
       "2030-01-06 -1.064194 -0.171941 -0.427911 -5 -6"
      ]
     },
     "execution_count": 70,
     "metadata": {},
     "output_type": "execute_result"
    }
   ],
   "source": [
    "# 양수 값만 추출한 다음 음수로 바꾸기\n",
    "df2 = df.copy()\n",
    "df2[df2 > 0] = -df2\n",
    "df2"
   ]
  },
  {
   "cell_type": "code",
   "execution_count": 71,
   "id": "30143a2d",
   "metadata": {},
   "outputs": [
    {
     "data": {
      "text/html": [
       "<div>\n",
       "<style scoped>\n",
       "    .dataframe tbody tr th:only-of-type {\n",
       "        vertical-align: middle;\n",
       "    }\n",
       "\n",
       "    .dataframe tbody tr th {\n",
       "        vertical-align: top;\n",
       "    }\n",
       "\n",
       "    .dataframe thead th {\n",
       "        text-align: right;\n",
       "    }\n",
       "</style>\n",
       "<table border=\"1\" class=\"dataframe\">\n",
       "  <thead>\n",
       "    <tr style=\"text-align: right;\">\n",
       "      <th></th>\n",
       "      <th>A</th>\n",
       "      <th>B</th>\n",
       "      <th>C</th>\n",
       "      <th>D</th>\n",
       "      <th>F</th>\n",
       "      <th>E</th>\n",
       "    </tr>\n",
       "  </thead>\n",
       "  <tbody>\n",
       "    <tr>\n",
       "      <th>2030-01-01</th>\n",
       "      <td>0.000000</td>\n",
       "      <td>-1.098979</td>\n",
       "      <td>-0.343557</td>\n",
       "      <td>5</td>\n",
       "      <td>1</td>\n",
       "      <td>1.0</td>\n",
       "    </tr>\n",
       "    <tr>\n",
       "      <th>2030-01-02</th>\n",
       "      <td>-2.823111</td>\n",
       "      <td>-1.607627</td>\n",
       "      <td>0.429596</td>\n",
       "      <td>5</td>\n",
       "      <td>2</td>\n",
       "      <td>1.0</td>\n",
       "    </tr>\n",
       "    <tr>\n",
       "      <th>2030-01-03</th>\n",
       "      <td>0.714721</td>\n",
       "      <td>-0.059368</td>\n",
       "      <td>0.119246</td>\n",
       "      <td>5</td>\n",
       "      <td>3</td>\n",
       "      <td>NaN</td>\n",
       "    </tr>\n",
       "    <tr>\n",
       "      <th>2030-01-04</th>\n",
       "      <td>-0.673186</td>\n",
       "      <td>-1.766074</td>\n",
       "      <td>0.286011</td>\n",
       "      <td>5</td>\n",
       "      <td>4</td>\n",
       "      <td>NaN</td>\n",
       "    </tr>\n",
       "  </tbody>\n",
       "</table>\n",
       "</div>"
      ],
      "text/plain": [
       "                   A         B         C  D  F    E\n",
       "2030-01-01  0.000000 -1.098979 -0.343557  5  1  1.0\n",
       "2030-01-02 -2.823111 -1.607627  0.429596  5  2  1.0\n",
       "2030-01-03  0.714721 -0.059368  0.119246  5  3  NaN\n",
       "2030-01-04 -0.673186 -1.766074  0.286011  5  4  NaN"
      ]
     },
     "execution_count": 71,
     "metadata": {},
     "output_type": "execute_result"
    }
   ],
   "source": [
    "# 결측치: missing data(예를 들어 NaN(Not A Number))\n",
    "# np.nan -> pandas는 연산에서 제외한다.\n",
    "# 재인덱싱은 해당 축에 대해 인덱스를 변경/추가/삭제하게 됩니다.\n",
    "# 이는 복사한 데이터 프레임을 반환합니다.(df1 = ~~)\n",
    "\n",
    "df1 = df.reindex(index=dates[0:4], columns=list(df.columns) + ['E'])\n",
    "# 앞서 'E'의 값은 df2에 넣은 것이지 df1에 넣은 게 아니기 때문에 df1에 있어 E는 NaN값\n",
    "df1.loc[dates[0]:dates[1], 'E'] = 1\n",
    "df1"
   ]
  },
  {
   "cell_type": "code",
   "execution_count": 72,
   "id": "d1213b44",
   "metadata": {},
   "outputs": [
    {
     "data": {
      "text/html": [
       "<div>\n",
       "<style scoped>\n",
       "    .dataframe tbody tr th:only-of-type {\n",
       "        vertical-align: middle;\n",
       "    }\n",
       "\n",
       "    .dataframe tbody tr th {\n",
       "        vertical-align: top;\n",
       "    }\n",
       "\n",
       "    .dataframe thead th {\n",
       "        text-align: right;\n",
       "    }\n",
       "</style>\n",
       "<table border=\"1\" class=\"dataframe\">\n",
       "  <thead>\n",
       "    <tr style=\"text-align: right;\">\n",
       "      <th></th>\n",
       "      <th>A</th>\n",
       "      <th>B</th>\n",
       "      <th>C</th>\n",
       "      <th>D</th>\n",
       "      <th>F</th>\n",
       "      <th>E</th>\n",
       "    </tr>\n",
       "  </thead>\n",
       "  <tbody>\n",
       "    <tr>\n",
       "      <th>2030-01-01</th>\n",
       "      <td>0.000000</td>\n",
       "      <td>-1.098979</td>\n",
       "      <td>-0.343557</td>\n",
       "      <td>5</td>\n",
       "      <td>1</td>\n",
       "      <td>1.0</td>\n",
       "    </tr>\n",
       "    <tr>\n",
       "      <th>2030-01-02</th>\n",
       "      <td>-2.823111</td>\n",
       "      <td>-1.607627</td>\n",
       "      <td>0.429596</td>\n",
       "      <td>5</td>\n",
       "      <td>2</td>\n",
       "      <td>1.0</td>\n",
       "    </tr>\n",
       "  </tbody>\n",
       "</table>\n",
       "</div>"
      ],
      "text/plain": [
       "                   A         B         C  D  F    E\n",
       "2030-01-01  0.000000 -1.098979 -0.343557  5  1  1.0\n",
       "2030-01-02 -2.823111 -1.607627  0.429596  5  2  1.0"
      ]
     },
     "execution_count": 72,
     "metadata": {},
     "output_type": "execute_result"
    }
   ],
   "source": [
    "# 결측치가 존재하면 표시를 누락시키는 dropna\n",
    "df1.dropna(how='any')"
   ]
  },
  {
   "cell_type": "code",
   "execution_count": 73,
   "id": "b6582dc8",
   "metadata": {},
   "outputs": [
    {
     "data": {
      "text/html": [
       "<div>\n",
       "<style scoped>\n",
       "    .dataframe tbody tr th:only-of-type {\n",
       "        vertical-align: middle;\n",
       "    }\n",
       "\n",
       "    .dataframe tbody tr th {\n",
       "        vertical-align: top;\n",
       "    }\n",
       "\n",
       "    .dataframe thead th {\n",
       "        text-align: right;\n",
       "    }\n",
       "</style>\n",
       "<table border=\"1\" class=\"dataframe\">\n",
       "  <thead>\n",
       "    <tr style=\"text-align: right;\">\n",
       "      <th></th>\n",
       "      <th>A</th>\n",
       "      <th>B</th>\n",
       "      <th>C</th>\n",
       "      <th>D</th>\n",
       "      <th>F</th>\n",
       "      <th>E</th>\n",
       "    </tr>\n",
       "  </thead>\n",
       "  <tbody>\n",
       "    <tr>\n",
       "      <th>2030-01-01</th>\n",
       "      <td>0.000000</td>\n",
       "      <td>-1.098979</td>\n",
       "      <td>-0.343557</td>\n",
       "      <td>5</td>\n",
       "      <td>1</td>\n",
       "      <td>1.0</td>\n",
       "    </tr>\n",
       "    <tr>\n",
       "      <th>2030-01-02</th>\n",
       "      <td>-2.823111</td>\n",
       "      <td>-1.607627</td>\n",
       "      <td>0.429596</td>\n",
       "      <td>5</td>\n",
       "      <td>2</td>\n",
       "      <td>1.0</td>\n",
       "    </tr>\n",
       "    <tr>\n",
       "      <th>2030-01-03</th>\n",
       "      <td>0.714721</td>\n",
       "      <td>-0.059368</td>\n",
       "      <td>0.119246</td>\n",
       "      <td>5</td>\n",
       "      <td>3</td>\n",
       "      <td>5.0</td>\n",
       "    </tr>\n",
       "    <tr>\n",
       "      <th>2030-01-04</th>\n",
       "      <td>-0.673186</td>\n",
       "      <td>-1.766074</td>\n",
       "      <td>0.286011</td>\n",
       "      <td>5</td>\n",
       "      <td>4</td>\n",
       "      <td>5.0</td>\n",
       "    </tr>\n",
       "  </tbody>\n",
       "</table>\n",
       "</div>"
      ],
      "text/plain": [
       "                   A         B         C  D  F    E\n",
       "2030-01-01  0.000000 -1.098979 -0.343557  5  1  1.0\n",
       "2030-01-02 -2.823111 -1.607627  0.429596  5  2  1.0\n",
       "2030-01-03  0.714721 -0.059368  0.119246  5  3  5.0\n",
       "2030-01-04 -0.673186 -1.766074  0.286011  5  4  5.0"
      ]
     },
     "execution_count": 73,
     "metadata": {},
     "output_type": "execute_result"
    }
   ],
   "source": [
    "# 결측치가 존재하면 다른 값으로 채우는 fillna\n",
    "df1.fillna(value=5)"
   ]
  },
  {
   "cell_type": "code",
   "execution_count": 75,
   "id": "9b9d6469",
   "metadata": {},
   "outputs": [
    {
     "data": {
      "text/html": [
       "<div>\n",
       "<style scoped>\n",
       "    .dataframe tbody tr th:only-of-type {\n",
       "        vertical-align: middle;\n",
       "    }\n",
       "\n",
       "    .dataframe tbody tr th {\n",
       "        vertical-align: top;\n",
       "    }\n",
       "\n",
       "    .dataframe thead th {\n",
       "        text-align: right;\n",
       "    }\n",
       "</style>\n",
       "<table border=\"1\" class=\"dataframe\">\n",
       "  <thead>\n",
       "    <tr style=\"text-align: right;\">\n",
       "      <th></th>\n",
       "      <th>A</th>\n",
       "      <th>B</th>\n",
       "      <th>C</th>\n",
       "      <th>D</th>\n",
       "      <th>F</th>\n",
       "      <th>E</th>\n",
       "    </tr>\n",
       "  </thead>\n",
       "  <tbody>\n",
       "    <tr>\n",
       "      <th>2030-01-01</th>\n",
       "      <td>False</td>\n",
       "      <td>False</td>\n",
       "      <td>False</td>\n",
       "      <td>False</td>\n",
       "      <td>False</td>\n",
       "      <td>False</td>\n",
       "    </tr>\n",
       "    <tr>\n",
       "      <th>2030-01-02</th>\n",
       "      <td>False</td>\n",
       "      <td>False</td>\n",
       "      <td>False</td>\n",
       "      <td>False</td>\n",
       "      <td>False</td>\n",
       "      <td>False</td>\n",
       "    </tr>\n",
       "    <tr>\n",
       "      <th>2030-01-03</th>\n",
       "      <td>False</td>\n",
       "      <td>False</td>\n",
       "      <td>False</td>\n",
       "      <td>False</td>\n",
       "      <td>False</td>\n",
       "      <td>True</td>\n",
       "    </tr>\n",
       "    <tr>\n",
       "      <th>2030-01-04</th>\n",
       "      <td>False</td>\n",
       "      <td>False</td>\n",
       "      <td>False</td>\n",
       "      <td>False</td>\n",
       "      <td>False</td>\n",
       "      <td>True</td>\n",
       "    </tr>\n",
       "  </tbody>\n",
       "</table>\n",
       "</div>"
      ],
      "text/plain": [
       "                A      B      C      D      F      E\n",
       "2030-01-01  False  False  False  False  False  False\n",
       "2030-01-02  False  False  False  False  False  False\n",
       "2030-01-03  False  False  False  False  False   True\n",
       "2030-01-04  False  False  False  False  False   True"
      ]
     },
     "execution_count": 75,
     "metadata": {},
     "output_type": "execute_result"
    }
   ],
   "source": [
    "# 해당 값이 결측치인지 확인하는 isna\n",
    "pd.isna(df1)"
   ]
  },
  {
   "cell_type": "code",
   "execution_count": 77,
   "id": "3d202b17",
   "metadata": {},
   "outputs": [
    {
     "data": {
      "text/plain": [
       "A   -0.809006\n",
       "B   -0.857368\n",
       "C    0.188677\n",
       "D    5.000000\n",
       "F    3.500000\n",
       "dtype: float64"
      ]
     },
     "execution_count": 77,
     "metadata": {},
     "output_type": "execute_result"
    }
   ],
   "source": [
    "## 연산\n",
    "# 행(index)을 기준으로 각 열(column)의 평균 구하기\n",
    "df.mean() # = df.mean(0)"
   ]
  },
  {
   "cell_type": "code",
   "execution_count": 78,
   "id": "b35dc158",
   "metadata": {},
   "outputs": [
    {
     "data": {
      "text/plain": [
       "2030-01-01    0.911493\n",
       "2030-01-02    0.599771\n",
       "2030-01-03    1.754920\n",
       "2030-01-04    1.369350\n",
       "2030-01-05    1.752875\n",
       "2030-01-06    2.038355\n",
       "Freq: D, dtype: float64"
      ]
     },
     "execution_count": 78,
     "metadata": {},
     "output_type": "execute_result"
    }
   ],
   "source": [
    "# 열을 기준으로 각 행의 평균 구하기\n",
    "df.mean(1)\n",
    "# 0은 행(index) 기준, 1은 열(column) 기준"
   ]
  },
  {
   "cell_type": "code",
   "execution_count": 81,
   "id": "ab55ac00",
   "metadata": {},
   "outputs": [
    {
     "data": {
      "text/plain": [
       "2030-01-01    NaN\n",
       "2030-01-02    NaN\n",
       "2030-01-03    1.0\n",
       "2030-01-04    3.0\n",
       "2030-01-05    5.0\n",
       "2030-01-06    NaN\n",
       "Freq: D, dtype: float64"
      ]
     },
     "execution_count": 81,
     "metadata": {},
     "output_type": "execute_result"
    }
   ],
   "source": [
    "# 차원이 달라 인덱스를 맞춰야하는 두 오브젝트 간 연산 예제\n",
    "s = pd.Series([1, 3, 5, np.nan, 6, 8], index=dates).shift(2)\n",
    "s"
   ]
  },
  {
   "cell_type": "code",
   "execution_count": 82,
   "id": "524db0af",
   "metadata": {},
   "outputs": [
    {
     "data": {
      "text/html": [
       "<div>\n",
       "<style scoped>\n",
       "    .dataframe tbody tr th:only-of-type {\n",
       "        vertical-align: middle;\n",
       "    }\n",
       "\n",
       "    .dataframe tbody tr th {\n",
       "        vertical-align: top;\n",
       "    }\n",
       "\n",
       "    .dataframe thead th {\n",
       "        text-align: right;\n",
       "    }\n",
       "</style>\n",
       "<table border=\"1\" class=\"dataframe\">\n",
       "  <thead>\n",
       "    <tr style=\"text-align: right;\">\n",
       "      <th></th>\n",
       "      <th>A</th>\n",
       "      <th>B</th>\n",
       "      <th>C</th>\n",
       "      <th>D</th>\n",
       "      <th>F</th>\n",
       "    </tr>\n",
       "  </thead>\n",
       "  <tbody>\n",
       "    <tr>\n",
       "      <th>2030-01-01</th>\n",
       "      <td>0.000000</td>\n",
       "      <td>-1.098979</td>\n",
       "      <td>-0.343557</td>\n",
       "      <td>5</td>\n",
       "      <td>1</td>\n",
       "    </tr>\n",
       "    <tr>\n",
       "      <th>2030-01-02</th>\n",
       "      <td>-2.823111</td>\n",
       "      <td>-1.607627</td>\n",
       "      <td>0.429596</td>\n",
       "      <td>5</td>\n",
       "      <td>2</td>\n",
       "    </tr>\n",
       "    <tr>\n",
       "      <th>2030-01-03</th>\n",
       "      <td>0.714721</td>\n",
       "      <td>-0.059368</td>\n",
       "      <td>0.119246</td>\n",
       "      <td>5</td>\n",
       "      <td>3</td>\n",
       "    </tr>\n",
       "    <tr>\n",
       "      <th>2030-01-04</th>\n",
       "      <td>-0.673186</td>\n",
       "      <td>-1.766074</td>\n",
       "      <td>0.286011</td>\n",
       "      <td>5</td>\n",
       "      <td>4</td>\n",
       "    </tr>\n",
       "    <tr>\n",
       "      <th>2030-01-05</th>\n",
       "      <td>-1.008263</td>\n",
       "      <td>-0.440218</td>\n",
       "      <td>0.212856</td>\n",
       "      <td>5</td>\n",
       "      <td>5</td>\n",
       "    </tr>\n",
       "    <tr>\n",
       "      <th>2030-01-06</th>\n",
       "      <td>-1.064194</td>\n",
       "      <td>-0.171941</td>\n",
       "      <td>0.427911</td>\n",
       "      <td>5</td>\n",
       "      <td>6</td>\n",
       "    </tr>\n",
       "  </tbody>\n",
       "</table>\n",
       "</div>"
      ],
      "text/plain": [
       "                   A         B         C  D  F\n",
       "2030-01-01  0.000000 -1.098979 -0.343557  5  1\n",
       "2030-01-02 -2.823111 -1.607627  0.429596  5  2\n",
       "2030-01-03  0.714721 -0.059368  0.119246  5  3\n",
       "2030-01-04 -0.673186 -1.766074  0.286011  5  4\n",
       "2030-01-05 -1.008263 -0.440218  0.212856  5  5\n",
       "2030-01-06 -1.064194 -0.171941  0.427911  5  6"
      ]
     },
     "execution_count": 82,
     "metadata": {},
     "output_type": "execute_result"
    }
   ],
   "source": [
    "df"
   ]
  },
  {
   "cell_type": "code",
   "execution_count": 83,
   "id": "e713381b",
   "metadata": {},
   "outputs": [
    {
     "data": {
      "text/html": [
       "<div>\n",
       "<style scoped>\n",
       "    .dataframe tbody tr th:only-of-type {\n",
       "        vertical-align: middle;\n",
       "    }\n",
       "\n",
       "    .dataframe tbody tr th {\n",
       "        vertical-align: top;\n",
       "    }\n",
       "\n",
       "    .dataframe thead th {\n",
       "        text-align: right;\n",
       "    }\n",
       "</style>\n",
       "<table border=\"1\" class=\"dataframe\">\n",
       "  <thead>\n",
       "    <tr style=\"text-align: right;\">\n",
       "      <th></th>\n",
       "      <th>A</th>\n",
       "      <th>B</th>\n",
       "      <th>C</th>\n",
       "      <th>D</th>\n",
       "      <th>F</th>\n",
       "    </tr>\n",
       "  </thead>\n",
       "  <tbody>\n",
       "    <tr>\n",
       "      <th>2030-01-01</th>\n",
       "      <td>NaN</td>\n",
       "      <td>NaN</td>\n",
       "      <td>NaN</td>\n",
       "      <td>NaN</td>\n",
       "      <td>NaN</td>\n",
       "    </tr>\n",
       "    <tr>\n",
       "      <th>2030-01-02</th>\n",
       "      <td>NaN</td>\n",
       "      <td>NaN</td>\n",
       "      <td>NaN</td>\n",
       "      <td>NaN</td>\n",
       "      <td>NaN</td>\n",
       "    </tr>\n",
       "    <tr>\n",
       "      <th>2030-01-03</th>\n",
       "      <td>-0.285279</td>\n",
       "      <td>-1.059368</td>\n",
       "      <td>-0.880754</td>\n",
       "      <td>4.0</td>\n",
       "      <td>2.0</td>\n",
       "    </tr>\n",
       "    <tr>\n",
       "      <th>2030-01-04</th>\n",
       "      <td>-3.673186</td>\n",
       "      <td>-4.766074</td>\n",
       "      <td>-2.713989</td>\n",
       "      <td>2.0</td>\n",
       "      <td>1.0</td>\n",
       "    </tr>\n",
       "    <tr>\n",
       "      <th>2030-01-05</th>\n",
       "      <td>-6.008263</td>\n",
       "      <td>-5.440218</td>\n",
       "      <td>-4.787144</td>\n",
       "      <td>0.0</td>\n",
       "      <td>0.0</td>\n",
       "    </tr>\n",
       "    <tr>\n",
       "      <th>2030-01-06</th>\n",
       "      <td>NaN</td>\n",
       "      <td>NaN</td>\n",
       "      <td>NaN</td>\n",
       "      <td>NaN</td>\n",
       "      <td>NaN</td>\n",
       "    </tr>\n",
       "  </tbody>\n",
       "</table>\n",
       "</div>"
      ],
      "text/plain": [
       "                   A         B         C    D    F\n",
       "2030-01-01       NaN       NaN       NaN  NaN  NaN\n",
       "2030-01-02       NaN       NaN       NaN  NaN  NaN\n",
       "2030-01-03 -0.285279 -1.059368 -0.880754  4.0  2.0\n",
       "2030-01-04 -3.673186 -4.766074 -2.713989  2.0  1.0\n",
       "2030-01-05 -6.008263 -5.440218 -4.787144  0.0  0.0\n",
       "2030-01-06       NaN       NaN       NaN  NaN  NaN"
      ]
     },
     "execution_count": 83,
     "metadata": {},
     "output_type": "execute_result"
    }
   ],
   "source": [
    "df.sub(s, axis = 'index')\n",
    "# sub: subtract\n",
    "# axis = 0 또는 'index'\n",
    "# axis = 1 또는 'column'\n",
    "# .shift(2)니 1번째가 아닌 3번째 행 모두 1을, 4번째 행에 3을, 5번째 행에 5를 뺐고, 6번째 행은 NaN이다."
   ]
  },
  {
   "cell_type": "code",
   "execution_count": 85,
   "id": "bb9180fa",
   "metadata": {},
   "outputs": [
    {
     "data": {
      "text/html": [
       "<div>\n",
       "<style scoped>\n",
       "    .dataframe tbody tr th:only-of-type {\n",
       "        vertical-align: middle;\n",
       "    }\n",
       "\n",
       "    .dataframe tbody tr th {\n",
       "        vertical-align: top;\n",
       "    }\n",
       "\n",
       "    .dataframe thead th {\n",
       "        text-align: right;\n",
       "    }\n",
       "</style>\n",
       "<table border=\"1\" class=\"dataframe\">\n",
       "  <thead>\n",
       "    <tr style=\"text-align: right;\">\n",
       "      <th></th>\n",
       "      <th>A</th>\n",
       "      <th>B</th>\n",
       "      <th>C</th>\n",
       "      <th>D</th>\n",
       "      <th>F</th>\n",
       "    </tr>\n",
       "  </thead>\n",
       "  <tbody>\n",
       "    <tr>\n",
       "      <th>2030-01-01</th>\n",
       "      <td>0.000000</td>\n",
       "      <td>-1.098979</td>\n",
       "      <td>-0.343557</td>\n",
       "      <td>5</td>\n",
       "      <td>1</td>\n",
       "    </tr>\n",
       "    <tr>\n",
       "      <th>2030-01-02</th>\n",
       "      <td>-2.823111</td>\n",
       "      <td>-2.706607</td>\n",
       "      <td>0.086039</td>\n",
       "      <td>10</td>\n",
       "      <td>3</td>\n",
       "    </tr>\n",
       "    <tr>\n",
       "      <th>2030-01-03</th>\n",
       "      <td>-2.108390</td>\n",
       "      <td>-2.765974</td>\n",
       "      <td>0.205285</td>\n",
       "      <td>15</td>\n",
       "      <td>6</td>\n",
       "    </tr>\n",
       "    <tr>\n",
       "      <th>2030-01-04</th>\n",
       "      <td>-2.781576</td>\n",
       "      <td>-4.532048</td>\n",
       "      <td>0.491296</td>\n",
       "      <td>20</td>\n",
       "      <td>10</td>\n",
       "    </tr>\n",
       "    <tr>\n",
       "      <th>2030-01-05</th>\n",
       "      <td>-3.789839</td>\n",
       "      <td>-4.972266</td>\n",
       "      <td>0.704152</td>\n",
       "      <td>25</td>\n",
       "      <td>15</td>\n",
       "    </tr>\n",
       "    <tr>\n",
       "      <th>2030-01-06</th>\n",
       "      <td>-4.854033</td>\n",
       "      <td>-5.144207</td>\n",
       "      <td>1.132063</td>\n",
       "      <td>30</td>\n",
       "      <td>21</td>\n",
       "    </tr>\n",
       "  </tbody>\n",
       "</table>\n",
       "</div>"
      ],
      "text/plain": [
       "                   A         B         C   D   F\n",
       "2030-01-01  0.000000 -1.098979 -0.343557   5   1\n",
       "2030-01-02 -2.823111 -2.706607  0.086039  10   3\n",
       "2030-01-03 -2.108390 -2.765974  0.205285  15   6\n",
       "2030-01-04 -2.781576 -4.532048  0.491296  20  10\n",
       "2030-01-05 -3.789839 -4.972266  0.704152  25  15\n",
       "2030-01-06 -4.854033 -5.144207  1.132063  30  21"
      ]
     },
     "execution_count": 85,
     "metadata": {},
     "output_type": "execute_result"
    }
   ],
   "source": [
    "# 데이터 프레임에 함수 적용하기\n",
    "df"
   ]
  },
  {
   "cell_type": "code",
   "execution_count": 86,
   "id": "1046ce57",
   "metadata": {},
   "outputs": [
    {
     "data": {
      "text/html": [
       "<div>\n",
       "<style scoped>\n",
       "    .dataframe tbody tr th:only-of-type {\n",
       "        vertical-align: middle;\n",
       "    }\n",
       "\n",
       "    .dataframe tbody tr th {\n",
       "        vertical-align: top;\n",
       "    }\n",
       "\n",
       "    .dataframe thead th {\n",
       "        text-align: right;\n",
       "    }\n",
       "</style>\n",
       "<table border=\"1\" class=\"dataframe\">\n",
       "  <thead>\n",
       "    <tr style=\"text-align: right;\">\n",
       "      <th></th>\n",
       "      <th>A</th>\n",
       "      <th>B</th>\n",
       "      <th>C</th>\n",
       "      <th>D</th>\n",
       "      <th>F</th>\n",
       "    </tr>\n",
       "  </thead>\n",
       "  <tbody>\n",
       "    <tr>\n",
       "      <th>2030-01-01</th>\n",
       "      <td>0.000000</td>\n",
       "      <td>-1.098979</td>\n",
       "      <td>-0.343557</td>\n",
       "      <td>5</td>\n",
       "      <td>1</td>\n",
       "    </tr>\n",
       "    <tr>\n",
       "      <th>2030-01-02</th>\n",
       "      <td>-2.823111</td>\n",
       "      <td>-2.706607</td>\n",
       "      <td>0.086039</td>\n",
       "      <td>10</td>\n",
       "      <td>3</td>\n",
       "    </tr>\n",
       "    <tr>\n",
       "      <th>2030-01-03</th>\n",
       "      <td>-2.108390</td>\n",
       "      <td>-2.765974</td>\n",
       "      <td>0.205285</td>\n",
       "      <td>15</td>\n",
       "      <td>6</td>\n",
       "    </tr>\n",
       "    <tr>\n",
       "      <th>2030-01-04</th>\n",
       "      <td>-2.781576</td>\n",
       "      <td>-4.532048</td>\n",
       "      <td>0.491296</td>\n",
       "      <td>20</td>\n",
       "      <td>10</td>\n",
       "    </tr>\n",
       "    <tr>\n",
       "      <th>2030-01-05</th>\n",
       "      <td>-3.789839</td>\n",
       "      <td>-4.972266</td>\n",
       "      <td>0.704152</td>\n",
       "      <td>25</td>\n",
       "      <td>15</td>\n",
       "    </tr>\n",
       "    <tr>\n",
       "      <th>2030-01-06</th>\n",
       "      <td>-4.854033</td>\n",
       "      <td>-5.144207</td>\n",
       "      <td>1.132063</td>\n",
       "      <td>30</td>\n",
       "      <td>21</td>\n",
       "    </tr>\n",
       "  </tbody>\n",
       "</table>\n",
       "</div>"
      ],
      "text/plain": [
       "                   A         B         C   D   F\n",
       "2030-01-01  0.000000 -1.098979 -0.343557   5   1\n",
       "2030-01-02 -2.823111 -2.706607  0.086039  10   3\n",
       "2030-01-03 -2.108390 -2.765974  0.205285  15   6\n",
       "2030-01-04 -2.781576 -4.532048  0.491296  20  10\n",
       "2030-01-05 -3.789839 -4.972266  0.704152  25  15\n",
       "2030-01-06 -4.854033 -5.144207  1.132063  30  21"
      ]
     },
     "execution_count": 86,
     "metadata": {},
     "output_type": "execute_result"
    }
   ],
   "source": [
    "df.apply(np.cumsum)\n",
    "# cumsum: cumulative sum"
   ]
  },
  {
   "cell_type": "code",
   "execution_count": 87,
   "id": "cff4016a",
   "metadata": {},
   "outputs": [
    {
     "data": {
      "text/plain": [
       "A    3.537833\n",
       "B    1.706707\n",
       "C    0.773153\n",
       "D    0.000000\n",
       "F    5.000000\n",
       "dtype: float64"
      ]
     },
     "execution_count": 87,
     "metadata": {},
     "output_type": "execute_result"
    }
   ],
   "source": [
    "df.apply(lambda x: x.max() - x.min())\n",
    "# lambda에서는 행을 x라고 이른다.\n",
    "# 열의 최댓값을 가진 행의 값과 최솟값을 가진 행의 값을 뺀 것을 'lamda x'로 칭(:)하기로 했다."
   ]
  },
  {
   "cell_type": "code",
   "execution_count": 91,
   "id": "1bbd3b7a",
   "metadata": {},
   "outputs": [
    {
     "data": {
      "text/plain": [
       "2000-01-01    2.413780\n",
       "2000-01-02    0.057133\n",
       "2000-01-03    0.380709\n",
       "2000-01-04    0.507661\n",
       "2000-01-05    1.254922\n",
       "                ...   \n",
       "2002-09-22    0.419796\n",
       "2002-09-23    1.881844\n",
       "2002-09-24    0.612851\n",
       "2002-09-25    1.093970\n",
       "2002-09-26    0.251398\n",
       "Freq: D, Length: 1000, dtype: float64"
      ]
     },
     "execution_count": 91,
     "metadata": {},
     "output_type": "execute_result"
    }
   ],
   "source": [
    "# plot으로 그래프 그리기\n",
    "ts = pd.Series(np.random.randn(1000), index=pd.date_range('1/1/2000', periods=1000))\n",
    "ts"
   ]
  },
  {
   "cell_type": "code",
   "execution_count": 93,
   "id": "b5a324d7",
   "metadata": {},
   "outputs": [
    {
     "data": {
      "text/plain": [
       "2000-01-01       2.413780\n",
       "2000-01-02       4.884694\n",
       "2000-01-03       7.736316\n",
       "2000-01-04      11.095599\n",
       "2000-01-05      15.709804\n",
       "                 ...     \n",
       "2002-09-22    4521.967561\n",
       "2002-09-23    4518.185348\n",
       "2002-09-24    4515.015987\n",
       "2002-09-25    4512.940595\n",
       "2002-09-26    4511.116601\n",
       "Freq: D, Length: 1000, dtype: float64"
      ]
     },
     "execution_count": 93,
     "metadata": {},
     "output_type": "execute_result"
    }
   ],
   "source": [
    "ts = ts.cumsum()\n",
    "ts"
   ]
  },
  {
   "cell_type": "code",
   "execution_count": 95,
   "id": "c93b3923",
   "metadata": {},
   "outputs": [
    {
     "data": {
      "text/plain": [
       "<AxesSubplot:>"
      ]
     },
     "execution_count": 95,
     "metadata": {},
     "output_type": "execute_result"
    },
    {
     "data": {
      "image/png": "[encoded data removed]",
      "text/plain": [
       "<Figure size 432x288 with 1 Axes>"
      ]
     },
     "metadata": {
      "needs_background": "light"
     },
     "output_type": "display_data"
    }
   ],
   "source": [
    "ts.plot()"
   ]
  },
  {
   "cell_type": "code",
   "execution_count": null,
   "id": "407db69f",
   "metadata": {},
   "outputs": [],
   "source": []
  }
 ],
 "metadata": {
  "kernelspec": {
   "display_name": "Python 3 (ipykernel)",
   "language": "python",
   "name": "python3"
  },
  "language_info": {
   "codemirror_mode": {
    "name": "ipython",
    "version": 3
   },
   "file_extension": ".py",
   "mimetype": "text/x-python",
   "name": "python",
   "nbconvert_exporter": "python",
   "pygments_lexer": "ipython3",
   "version": "3.8.4"
  }
 },
 "nbformat": 4,
 "nbformat_minor": 5
}
