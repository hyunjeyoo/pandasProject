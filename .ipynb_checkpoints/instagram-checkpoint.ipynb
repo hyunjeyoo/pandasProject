{
 "cells": [
  {
   "cell_type": "code",
   "execution_count": 6,
   "id": "846e4bda",
   "metadata": {},
   "outputs": [
    {
     "name": "stderr",
     "output_type": "stream",
     "text": [
      "/var/folders/c1/rsntflqd7vx6774s642zmw6h0000gn/T/ipykernel_6304/2658272102.py:3: DeprecationWarning: executable_path has been deprecated, please pass in a Service object\n",
      "  driver = webdriver.Chrome(\"/Users/je/pandasProject/chromedriver\")\n"
     ]
    }
   ],
   "source": [
    "from selenium import webdriver\n",
    "from selenium.webdriver.common.by import By\n",
    "driver = webdriver.Chrome(\"/Users/je/pandasProject/chromedriver\")\n",
    "# chromedriver는 주기적으로 업데이트 되니 최신 상태를 확인할 것"
   ]
  },
  {
   "cell_type": "code",
   "execution_count": 7,
   "id": "abf6a399",
   "metadata": {},
   "outputs": [],
   "source": [
    "import time\n",
    "#인스타그램 접속하기\n",
    "driver.get('https://www.instagram.com')\n",
    "time.sleep(2)"
   ]
  },
  {
   "cell_type": "code",
   "execution_count": 8,
   "id": "42a5f31c",
   "metadata": {},
   "outputs": [
    {
     "name": "stderr",
     "output_type": "stream",
     "text": [
      "/var/folders/c1/rsntflqd7vx6774s642zmw6h0000gn/T/ipykernel_6304/2598180751.py:3: DeprecationWarning: find_elements_by_css_selector is deprecated. Please use find_elements(by=By.CSS_SELECTOR, value=css_selector) instead\n",
      "  input_id = driver.find_elements_by_css_selector('input._2hvTZ.pexuQ.zyHYP')[0] # input이 비밀번호 입력 칸도 있으니까 [0]을 입력해줘서 아이디 입력 칸이라는 것을 명시해준다.\n",
      "/var/folders/c1/rsntflqd7vx6774s642zmw6h0000gn/T/ipykernel_6304/2598180751.py:9: DeprecationWarning: find_elements_by_css_selector is deprecated. Please use find_elements(by=By.CSS_SELECTOR, value=css_selector) instead\n",
      "  input_pw = driver.find_elements_by_css_selector('input._2hvTZ.pexuQ.zyHYP')[1]\n"
     ]
    }
   ],
   "source": [
    "# 이메일 입력\n",
    "email = 'hjyu@idaegu.com'\n",
    "input_id = driver.find_elements_by_css_selector('input._2hvTZ.pexuQ.zyHYP')[0] # input이 비밀번호 입력 칸도 있으니까 [0]을 입력해줘서 아이디 입력 칸이라는 것을 명시해준다.\n",
    "input_id.clear()\n",
    "input_id.send_keys(email)\n",
    "\n",
    "# 비밀번호 입력\n",
    "password = 'now9841'\n",
    "input_pw = driver.find_elements_by_css_selector('input._2hvTZ.pexuQ.zyHYP')[1]\n",
    "input_pw.clear()\n",
    "input_pw.send_keys(password)\n",
    "\n",
    "# 제출\n",
    "input_pw.submit()\n",
    "time.sleep(3)"
   ]
  },
  {
   "cell_type": "code",
   "execution_count": 9,
   "id": "72bec45e",
   "metadata": {},
   "outputs": [],
   "source": [
    "# 쿼리: '대구 카페'를 검색하면 url 끝에 '/?q=대구%20카페'가 생긴다.\n",
    "\n",
    "# 검색 결과 url 만들기\n",
    "def insta_searching(word):\n",
    "    url = 'https://www.instagram.com/explore/tags/' + word\n",
    "    return url"
   ]
  },
  {
   "cell_type": "code",
   "execution_count": 10,
   "id": "09ff8ae0",
   "metadata": {},
   "outputs": [],
   "source": [
    "word = '제주도맛집'\n",
    "url = insta_searching(word)\n",
    "driver.get(url)"
   ]
  },
  {
   "cell_type": "code",
   "execution_count": null,
   "id": "613c1586",
   "metadata": {},
   "outputs": [],
   "source": []
  }
 ],
 "metadata": {
  "kernelspec": {
   "display_name": "Python 3 (ipykernel)",
   "language": "python",
   "name": "python3"
  },
  "language_info": {
   "codemirror_mode": {
    "name": "ipython",
    "version": 3
   },
   "file_extension": ".py",
   "mimetype": "text/x-python",
   "name": "python",
   "nbconvert_exporter": "python",
   "pygments_lexer": "ipython3",
   "version": "3.8.4"
  }
 },
 "nbformat": 4,
 "nbformat_minor": 5
}
