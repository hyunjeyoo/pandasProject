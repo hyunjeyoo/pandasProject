{
 "cells": [
  {
   "cell_type": "code",
   "execution_count": 6,
   "id": "846e4bda",
   "metadata": {},
   "outputs": [
    {
     "name": "stderr",
     "output_type": "stream",
     "text": [
      "/var/folders/c1/rsntflqd7vx6774s642zmw6h0000gn/T/ipykernel_6304/2658272102.py:3: DeprecationWarning: executable_path has been deprecated, please pass in a Service object\n",
      "  driver = webdriver.Chrome(\"/Users/je/pandasProject/chromedriver\")\n"
     ]
    }
   ],
   "source": [
    "from selenium import webdriver\n",
    "from selenium.webdriver.common.by import By\n",
    "driver = webdriver.Chrome(\"/Users/je/pandasProject/chromedriver\")\n",
    "# chromedriver는 주기적으로 업데이트 되니 최신 상태를 확인할 것"
   ]
  },
  {
   "cell_type": "code",
   "execution_count": 7,
   "id": "abf6a399",
   "metadata": {},
   "outputs": [],
   "source": [
    "import time\n",
    "#인스타그램 접속하기\n",
    "driver.get('https://www.instagram.com')\n",
    "time.sleep(2)"
   ]
  },
  {
   "cell_type": "code",
   "execution_count": 8,
   "id": "42a5f31c",
   "metadata": {},
   "outputs": [
    {
     "name": "stderr",
     "output_type": "stream",
     "text": [
      "/var/folders/c1/rsntflqd7vx6774s642zmw6h0000gn/T/ipykernel_6304/2598180751.py:3: DeprecationWarning: find_elements_by_css_selector is deprecated. Please use find_elements(by=By.CSS_SELECTOR, value=css_selector) instead\n",
      "  input_id = driver.find_elements_by_css_selector('input._2hvTZ.pexuQ.zyHYP')[0] # input이 비밀번호 입력 칸도 있으니까 [0]을 입력해줘서 아이디 입력 칸이라는 것을 명시해준다.\n",
      "/var/folders/c1/rsntflqd7vx6774s642zmw6h0000gn/T/ipykernel_6304/2598180751.py:9: DeprecationWarning: find_elements_by_css_selector is deprecated. Please use find_elements(by=By.CSS_SELECTOR, value=css_selector) instead\n",
      "  input_pw = driver.find_elements_by_css_selector('input._2hvTZ.pexuQ.zyHYP')[1]\n"
     ]
    }
   ],
   "source": [
    "# 이메일 입력\n",
    "email = 'hjyu@idaegu.com'\n",
    "input_id = driver.find_elements_by_css_selector('input._2hvTZ.pexuQ.zyHYP')[0] # input이 비밀번호 입력 칸도 있으니까 [0]을 입력해줘서 아이디 입력 칸이라는 것을 명시해준다.\n",
    "input_id.clear()\n",
    "input_id.send_keys(email)\n",
    "\n",
    "# 비밀번호 입력\n",
    "password = 'now9841'\n",
    "input_pw = driver.find_elements_by_css_selector('input._2hvTZ.pexuQ.zyHYP')[1]\n",
    "input_pw.clear()\n",
    "input_pw.send_keys(password)\n",
    "\n",
    "# 제출\n",
    "input_pw.submit()\n",
    "time.sleep(3)"
   ]
  },
  {
   "cell_type": "code",
   "execution_count": 9,
   "id": "72bec45e",
   "metadata": {},
   "outputs": [],
   "source": [
    "# 쿼리: '대구 카페'를 검색하면 url 끝에 '/?q=대구%20카페'가 생긴다.\n",
    "\n",
    "# 검색 결과 url 만들기\n",
    "def insta_searching(word):\n",
    "    url = 'https://www.instagram.com/explore/tags/' + word\n",
    "    return url"
   ]
  },
  {
   "cell_type": "code",
   "execution_count": 10,
   "id": "09ff8ae0",
   "metadata": {},
   "outputs": [],
   "source": [
    "word = '제주도맛집'\n",
    "url = insta_searching(word)\n",
    "driver.get(url)"
   ]
  },
  {
   "cell_type": "code",
   "execution_count": 11,
   "id": "613c1586",
   "metadata": {},
   "outputs": [
    {
     "name": "stderr",
     "output_type": "stream",
     "text": [
      "/var/folders/c1/rsntflqd7vx6774s642zmw6h0000gn/T/ipykernel_6304/2305750252.py:3: DeprecationWarning: find_element_by_css_selector is deprecated. Please use find_element(by=By.CSS_SELECTOR, value=css_selector) instead\n",
      "  first = driver.find_element_by_css_selector(\"div._aagw\")\n"
     ]
    }
   ],
   "source": [
    "# 첫 게시물 클릭하기\n",
    "def select_first(driver):\n",
    "    first = driver.find_element_by_css_selector(\"div._aagw\")\n",
    "    first.click()\n",
    "    time.sleep(3) # In [ ]에 *가 오래 돌아가는 경우에는 time.sleep( ) 코드를 쓴다.\n",
    "    \n",
    "select_first(driver)"
   ]
  },
  {
   "cell_type": "code",
   "execution_count": 12,
   "id": "4b78c9a2",
   "metadata": {},
   "outputs": [
    {
     "data": {
      "text/plain": [
       "['(광고)카페라라라💌제주특별자치도 제주시 구좌읍 해맞이해안로 1430 (세화해변 앞)💌064-783-0464💌매일 10:00-21:00💌주차하기 좋아요#제주도맛집 #제주도카페 #제주동쪽카페 #제주카페 #구좌읍카페 #구좌카페 #표선카페 #함덕해변 #함덕카페 #성산일출봉카페 #월정리 #월정리해변 #월정리카페 #성산카페 #서귀포카페 #세화해변 #세화해변카페',\n",
       " '2022-07-27',\n",
       " ' ',\n",
       " ['#제주도맛집',\n",
       "  '#제주도카페',\n",
       "  '#제주동쪽카페',\n",
       "  '#제주카페',\n",
       "  '#구좌읍카페',\n",
       "  '#구좌카페',\n",
       "  '#표선카페',\n",
       "  '#함덕해변',\n",
       "  '#함덕카페',\n",
       "  '#성산일출봉카페',\n",
       "  '#월정리',\n",
       "  '#월정리해변',\n",
       "  '#월정리카페',\n",
       "  '#성산카페',\n",
       "  '#서귀포카페',\n",
       "  '#세화해변',\n",
       "  '#세화해변카페']]"
      ]
     },
     "execution_count": 12,
     "metadata": {},
     "output_type": "execute_result"
    }
   ],
   "source": [
    "# 게시글 내용 긁어오기\n",
    "import re # 문자열을 다루는 파이썬의 라이브러리\n",
    "from bs4 import BeautifulSoup\n",
    "import unicodedata\n",
    "\n",
    "def get_content(driver): # get_content()라는 함수를 만들 것인데, 그 함수는 driver를 쓴다.\n",
    "    # 1. 현재 페이지 html 정보 가져오기\n",
    "    html = driver.page_source\n",
    "    soup = BeautifulSoup(html, 'html.parser')\n",
    "    # 2. 본문 내용 가져오기\n",
    "    try:\n",
    "        content = soup.select('div._a9zs > span')[0].text\n",
    "        content = unicodedata.normalize('NFC', content)\n",
    "    except:\n",
    "        content = ' ' # 안 될 때는 그냥 비워둬라\n",
    "    # 3. 해시태그 가져오기\n",
    "    tags = re.findall(r'#[^\\s#,\\\\]+', content)\n",
    "    # 4. 날짜 정보 가져오기\n",
    "    date = soup.select('time._aaqe')[0]['datetime'][:10] # 10까지면 일자까지 가져옴\n",
    "    # 5. 위치 정보 가져오기\n",
    "    try:\n",
    "        place = soup.select('div._aacl._aacn._aacu._aacy._aada._aade')[0].text\n",
    "        place = unicodedata.normalize('NFC', place)\n",
    "    except:\n",
    "        place = ' '\n",
    "    # 수집한 정보 저장하기\n",
    "    data = [content, date, place, tags]\n",
    "    return data\n",
    "\n",
    "get_content(driver)"
   ]
  },
  {
   "cell_type": "code",
   "execution_count": 13,
   "id": "0d10094b",
   "metadata": {},
   "outputs": [
    {
     "name": "stderr",
     "output_type": "stream",
     "text": [
      "/var/folders/c1/rsntflqd7vx6774s642zmw6h0000gn/T/ipykernel_6304/1471863517.py:3: DeprecationWarning: find_element_by_xpath is deprecated. Please use find_element(by=By.XPATH, value=xpath) instead\n",
      "  right = driver.find_element_by_xpath(xpath)\n"
     ]
    }
   ],
   "source": [
    "def move_next(drive):\n",
    "    xpath=\"//*[name()='svg'][@aria-label='다음']\"\n",
    "    right = driver.find_element_by_xpath(xpath)\n",
    "    right.click()\n",
    "    time.sleep(3)\n",
    "move_next(driver)"
   ]
  },
  {
   "cell_type": "code",
   "execution_count": 16,
   "id": "cf967633",
   "metadata": {},
   "outputs": [
    {
     "name": "stderr",
     "output_type": "stream",
     "text": [
      "/var/folders/c1/rsntflqd7vx6774s642zmw6h0000gn/T/ipykernel_6304/1471863517.py:3: DeprecationWarning: find_element_by_xpath is deprecated. Please use find_element(by=By.XPATH, value=xpath) instead\n",
      "  right = driver.find_element_by_xpath(xpath)\n"
     ]
    },
    {
     "data": {
      "text/plain": [
       "['협찬지구상회@earthmarket_jeju직접잡아 판매~~ 가성비갑!!#제주맛집#제주도맛집#애월맛집',\n",
       " '2022-07-27',\n",
       " ' ',\n",
       " ['#제주맛집', '#제주도맛집', '#애월맛집']]"
      ]
     },
     "execution_count": 16,
     "metadata": {},
     "output_type": "execute_result"
    }
   ],
   "source": [
    "for x in range(5):\n",
    "    def get_content(driver): # get_content()라는 함수를 만들 것인데, 그 함수는 driver를 쓴다.\n",
    "        # 1. 현재 페이지 html 정보 가져오기\n",
    "        html = driver.page_source\n",
    "        soup = BeautifulSoup(html, 'html.parser')\n",
    "        # 2. 본문 내용 가져오기\n",
    "        try:\n",
    "            content = soup.select('div._a9zs > span')[0].text\n",
    "            content = unicodedata.normalize('NFC', content)\n",
    "        except:\n",
    "            content = ' ' # 안 될 때는 그냥 비워둬라\n",
    "        # 3. 해시태그 가져오기\n",
    "        tags = re.findall(r'#[^\\s#,\\\\]+', content)\n",
    "        # 4. 날짜 정보 가져오기\n",
    "        date = soup.select('time._aaqe')[0]['datetime'][:10] # 10까지면 일자까지 가져옴\n",
    "        # 5. 위치 정보 가져오기\n",
    "        try:\n",
    "            place = soup.select('div._aacl._aacn._aacu._aacy._aada._aade')[0].text\n",
    "            place = unicodedata.normalize('NFC', place)\n",
    "        except:\n",
    "            place = ' '\n",
    "        # 수집한 정보 저장하기\n",
    "        data = [content, date, place, tags]\n",
    "        return data\n",
    "    move_next(driver)\n",
    "\n",
    "get_content(driver)"
   ]
  },
  {
   "cell_type": "code",
   "execution_count": null,
   "id": "3630f4d1",
   "metadata": {},
   "outputs": [],
   "source": []
  }
 ],
 "metadata": {
  "kernelspec": {
   "display_name": "Python 3 (ipykernel)",
   "language": "python",
   "name": "python3"
  },
  "language_info": {
   "codemirror_mode": {
    "name": "ipython",
    "version": 3
   },
   "file_extension": ".py",
   "mimetype": "text/x-python",
   "name": "python",
   "nbconvert_exporter": "python",
   "pygments_lexer": "ipython3",
   "version": "3.8.4"
  }
 },
 "nbformat": 4,
 "nbformat_minor": 5
}
