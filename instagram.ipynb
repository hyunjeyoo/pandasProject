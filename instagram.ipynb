{
 "cells": [
  {
   "cell_type": "code",
   "execution_count": 1,
   "id": "846e4bda",
   "metadata": {},
   "outputs": [
    {
     "name": "stderr",
     "output_type": "stream",
     "text": [
      "/var/folders/c1/rsntflqd7vx6774s642zmw6h0000gn/T/ipykernel_2589/2658272102.py:3: DeprecationWarning: executable_path has been deprecated, please pass in a Service object\n",
      "  driver = webdriver.Chrome(\"/Users/je/pandasProject/chromedriver\")\n"
     ]
    }
   ],
   "source": [
    "from selenium import webdriver\n",
    "from selenium.webdriver.common.by import By\n",
    "driver = webdriver.Chrome(\"/Users/je/pandasProject/chromedriver\")"
   ]
  },
  {
   "cell_type": "code",
   "execution_count": 2,
   "id": "abf6a399",
   "metadata": {},
   "outputs": [],
   "source": [
    "import time\n",
    "#인스타그램 접속하기\n",
    "driver.get('https://www.instagram.com')\n",
    "time.sleep(2)"
   ]
  },
  {
   "cell_type": "code",
   "execution_count": 3,
   "id": "42a5f31c",
   "metadata": {},
   "outputs": [],
   "source": [
    "email = 'hjyu@idaegu.com'\n",
    "password = 'now9841'"
   ]
  },
  {
   "cell_type": "code",
   "execution_count": null,
   "id": "ca923609",
   "metadata": {},
   "outputs": [],
   "source": []
  }
 ],
 "metadata": {
  "kernelspec": {
   "display_name": "Python 3 (ipykernel)",
   "language": "python",
   "name": "python3"
  },
  "language_info": {
   "codemirror_mode": {
    "name": "ipython",
    "version": 3
   },
   "file_extension": ".py",
   "mimetype": "text/x-python",
   "name": "python",
   "nbconvert_exporter": "python",
   "pygments_lexer": "ipython3",
   "version": "3.8.4"
  }
 },
 "nbformat": 4,
 "nbformat_minor": 5
}
